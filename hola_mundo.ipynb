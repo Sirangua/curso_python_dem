{
 "cells": [
  {
   "attachments": {},
   "cell_type": "markdown",
   "metadata": {},
   "source": [
    "# Este es el inicio\n",
    "\n",
    "## Subtitulo\n",
    "\n",
    "### Subtitulo 2\n",
    "\n",
    "\n",
    "codigo chido\n"
   ]
  },
  {
   "cell_type": "code",
   "execution_count": 3,
   "metadata": {},
   "outputs": [
    {
     "name": "stdout",
     "output_type": "stream",
     "text": [
      "Hola mundo :) este es mi primer programa\n"
     ]
    }
   ],
   "source": [
    "print ('Hola mundo :)', 'este es mi primer programa')"
   ]
  },
  {
   "cell_type": "code",
   "execution_count": 4,
   "metadata": {},
   "outputs": [],
   "source": [
    "planetas_del_sistema_solar = 8 #int\n",
    "distancia_alfa_centauri = 4.367 # float, años luz\n",
    "autorizacion = True #bolean\n",
    "mision = \"Artemis 1\" #string"
   ]
  },
  {
   "cell_type": "code",
   "execution_count": 5,
   "metadata": {},
   "outputs": [
    {
     "data": {
      "text/plain": [
       "int"
      ]
     },
     "execution_count": 5,
     "metadata": {},
     "output_type": "execute_result"
    }
   ],
   "source": [
    "type(distancia_alfa_centauri) ## <class 'float'>\n",
    "type(planetas_del_sistema_solar)"
   ]
  },
  {
   "cell_type": "code",
   "execution_count": 6,
   "metadata": {},
   "outputs": [
    {
     "name": "stdout",
     "output_type": "stream",
     "text": [
      "<class 'float'> <class 'int'> <class 'bool'> <class 'str'>\n"
     ]
    }
   ],
   "source": [
    "print(type(distancia_alfa_centauri),type(planetas_del_sistema_solar),type(autorizacion), type(mision))"
   ]
  }
 ],
 "metadata": {
  "kernelspec": {
   "display_name": "Python 3",
   "language": "python",
   "name": "python3"
  },
  "language_info": {
   "codemirror_mode": {
    "name": "ipython",
    "version": 3
   },
   "file_extension": ".py",
   "mimetype": "text/x-python",
   "name": "python",
   "nbconvert_exporter": "python",
   "pygments_lexer": "ipython3",
   "version": "3.9.12"
  },
  "orig_nbformat": 4,
  "vscode": {
   "interpreter": {
    "hash": "d6f8efb7a0b665dda0b04e6e82c4d7abbc35da41f6775fdaeec5fef172efb971"
   }
  }
 },
 "nbformat": 4,
 "nbformat_minor": 2
}
