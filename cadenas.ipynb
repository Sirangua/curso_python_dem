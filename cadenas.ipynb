{
 "cells": [
  {
   "attachments": {},
   "cell_type": "markdown",
   "metadata": {},
   "source": [
    "# Cadenas en python\n",
    "\n",
    "## Inmutabilidad de las cadenas\n",
    "\n",
    "En Python, las cadenas son inmutables. Es decir, no pueden cambiar. Esta propiedad del tipo de cadena puede ser sorprendente, ya que Python no proporciona errores al modificar cadenas."
   ]
  },
  {
   "cell_type": "code",
   "execution_count": null,
   "metadata": {},
   "outputs": [],
   "source": [
    "dato = \"La luna no tiene atmosfera. \"\n",
    "dato += \"No hay sonidos en la luna\"\n",
    "\n",
    "print (dato)"
   ]
  },
  {
   "attachments": {},
   "cell_type": "markdown",
   "metadata": {},
   "source": [
    "## Uso de comillas\n",
    "\n",
    "Puede incluir las cadenas de Python entre comillas simples, dobles o triples. Aunque se pueden usar indistintamente, es mejor utilizar un tipo de forma coherente dentro de un proyecto. "
   ]
  },
  {
   "cell_type": "code",
   "execution_count": null,
   "metadata": {},
   "outputs": [],
   "source": [
    "moon_radius = \"The Moon has a radius of 1,080 miles\"\n",
    "\n",
    "print (moon_radius)"
   ]
  },
  {
   "attachments": {},
   "cell_type": "markdown",
   "metadata": {},
   "source": [
    "Pero cuando una cadena contiene palabras, números o caracteres especiales (una subcadena) que también se incluyen entre comillas, debe usar otro estilo. Por ejemplo, si en una subcadena se usan comillas dobles, incluya toda la cadena entre comillas simples, como se muestra aquí:"
   ]
  },
  {
   "cell_type": "code",
   "execution_count": null,
   "metadata": {},
   "outputs": [],
   "source": [
    "texto = 'Entonces el dijo: \"¿Dónde estoy?\"'\n",
    "\n",
    "print (texto)\n"
   ]
  },
  {
   "attachments": {},
   "cell_type": "markdown",
   "metadata": {},
   "source": [
    "Del mismo modo, si en alguna parte de la cadena hay comillas simples o un apóstrofo, incluya toda la cadena entre comillas dobles:"
   ]
  },
  {
   "cell_type": "code",
   "execution_count": null,
   "metadata": {},
   "outputs": [],
   "source": [
    "texto = \"Y le contestaron: Pa' que quiere saber eso?\"\n",
    "\n",
    "print (texto)"
   ]
  },
  {
   "attachments": {},
   "cell_type": "markdown",
   "metadata": {},
   "source": [
    "Cuando el texto tiene una combinación de comillas simples y dobles, puede usar comillas triples para evitar problemas con el intérprete:"
   ]
  },
  {
   "cell_type": "code",
   "execution_count": null,
   "metadata": {},
   "outputs": [],
   "source": [
    "texto = \"\"\" '\"Entonces el dijo: \"Dónde estoy?\". Y le contestaron: Pa' que quiere saber eso \"\"\"\n",
    "print (texto)"
   ]
  },
  {
   "attachments": {},
   "cell_type": "markdown",
   "metadata": {},
   "source": [
    "## Métodos de Cadena\n",
    "\n",
    "Toda variable en Python es un objeto. Los métodos de cadena son uno de los tipos de método más comunes en Python. A menudo tendrá que manipular cadenas para extraer información o ajustarse a un formato concreto. Python incluye varios métodos de cadena diseñados para realizar las transformaciones más comunes y útiles."
   ]
  },
  {
   "cell_type": "code",
   "execution_count": null,
   "metadata": {},
   "outputs": [],
   "source": [
    "prueba = \"Esto es un texto para conocer los métodos \\nSalto de linea\"\n",
    "\n",
    "print(prueba)"
   ]
  },
  {
   "attachments": {},
   "cell_type": "markdown",
   "metadata": {},
   "source": [
    "### .title()"
   ]
  },
  {
   "cell_type": "code",
   "execution_count": null,
   "metadata": {},
   "outputs": [],
   "source": [
    "print(prueba.title ())"
   ]
  },
  {
   "attachments": {},
   "cell_type": "markdown",
   "metadata": {},
   "source": [
    "### .slipt()"
   ]
  },
  {
   "cell_type": "code",
   "execution_count": null,
   "metadata": {},
   "outputs": [],
   "source": [
    "prueba.split ('e')"
   ]
  },
  {
   "attachments": {},
   "cell_type": "markdown",
   "metadata": {},
   "source": [
    "### .split('\\n') o .slipt (\"X\")\n",
    "\n",
    "+ Índice del array"
   ]
  },
  {
   "cell_type": "code",
   "execution_count": null,
   "metadata": {},
   "outputs": [],
   "source": []
  },
  {
   "attachments": {},
   "cell_type": "markdown",
   "metadata": {},
   "source": [
    "### in"
   ]
  },
  {
   "cell_type": "code",
   "execution_count": null,
   "metadata": {},
   "outputs": [],
   "source": [
    "'1' in prueba"
   ]
  },
  {
   "attachments": {},
   "cell_type": "markdown",
   "metadata": {},
   "source": [
    "### .find()"
   ]
  },
  {
   "cell_type": "code",
   "execution_count": null,
   "metadata": {},
   "outputs": [],
   "source": [
    "prueba.find (\"E\")"
   ]
  },
  {
   "attachments": {},
   "cell_type": "markdown",
   "metadata": {},
   "source": [
    "### .count()"
   ]
  },
  {
   "cell_type": "code",
   "execution_count": null,
   "metadata": {},
   "outputs": [],
   "source": [
    "prueba.count (\"e\")"
   ]
  },
  {
   "attachments": {},
   "cell_type": "markdown",
   "metadata": {},
   "source": [
    "### .lower() y  .upper()"
   ]
  },
  {
   "cell_type": "code",
   "execution_count": null,
   "metadata": {},
   "outputs": [],
   "source": [
    "Mayusculas = \"TODO ES MAYUSCULAS\"\n",
    "\n",
    "minusculas = Mayusculas.lower()\n",
    "\n",
    "Mayusculas_otravez = minusculas.upper ()\n",
    "\n",
    "print (Mayusculas_otravez)\n"
   ]
  },
  {
   "attachments": {},
   "cell_type": "markdown",
   "metadata": {},
   "source": [
    "### .isnumeric()"
   ]
  },
  {
   "cell_type": "code",
   "execution_count": null,
   "metadata": {},
   "outputs": [],
   "source": [
    "valor = \"-30\"\n",
    "\n",
    "valor.isnumeric()"
   ]
  },
  {
   "attachments": {},
   "cell_type": "markdown",
   "metadata": {},
   "source": [
    "### .startswith() y .endswith()"
   ]
  },
  {
   "cell_type": "code",
   "execution_count": 39,
   "metadata": {},
   "outputs": [
    {
     "name": "stdout",
     "output_type": "stream",
     "text": [
      "Quien sabe\n"
     ]
    }
   ],
   "source": [
    "temperatura = \"-3 C\"\n",
    "\n",
    "if temperatura.startswith (\"-s\"):\n",
    "    print (\"Ta elao\")\n",
    "    if temperatura.endswith(\"Cs\"):\n",
    "        print (\"Estamos en grados celcius\")\n",
    "else:\n",
    "    print (\"Quien sabe\")"
   ]
  },
  {
   "attachments": {},
   "cell_type": "markdown",
   "metadata": {},
   "source": [
    "### .replace()"
   ]
  },
  {
   "cell_type": "code",
   "execution_count": null,
   "metadata": {},
   "outputs": [],
   "source": []
  },
  {
   "attachments": {},
   "cell_type": "markdown",
   "metadata": {},
   "source": [
    "### .join()\n",
    "\" \".join(variable)"
   ]
  },
  {
   "cell_type": "code",
   "execution_count": null,
   "metadata": {},
   "outputs": [],
   "source": [
    "\n"
   ]
  }
 ],
 "metadata": {
  "kernelspec": {
   "display_name": "Python 3",
   "language": "python",
   "name": "python3"
  },
  "language_info": {
   "codemirror_mode": {
    "name": "ipython",
    "version": 3
   },
   "file_extension": ".py",
   "mimetype": "text/x-python",
   "name": "python",
   "nbconvert_exporter": "python",
   "pygments_lexer": "ipython3",
   "version": "3.9.12"
  },
  "orig_nbformat": 4
 },
 "nbformat": 4,
 "nbformat_minor": 2
}
