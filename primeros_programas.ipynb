{
 "cells": [
  {
   "attachments": {},
   "cell_type": "markdown",
   "metadata": {},
   "source": [
    "# Primeros programas\n",
    "\n",
    "### Función print ()\n"
   ]
  },
  {
   "cell_type": "code",
   "execution_count": 1,
   "metadata": {},
   "outputs": [
    {
     "name": "stdout",
     "output_type": "stream",
     "text": [
      "Hola mundo :) \n",
      "Este es mi primer programa\n"
     ]
    }
   ],
   "source": [
    "print ('Hola mundo :)', '\\nEste es mi primer programa')"
   ]
  },
  {
   "attachments": {},
   "cell_type": "markdown",
   "metadata": {},
   "source": [
    "### Función input ()\n"
   ]
  },
  {
   "cell_type": "code",
   "execution_count": 7,
   "metadata": {},
   "outputs": [
    {
     "name": "stdout",
     "output_type": "stream",
     "text": [
      "Nombre:  Emma \n",
      "Edad:  21 \n",
      "Correo: emma\n"
     ]
    }
   ],
   "source": [
    "nombre = input (\"Escribe tu nombre\")\n",
    "edad = input (\"Escribe tu edad\")\n",
    "correo = input (\"Escribe tu correo\")\n",
    "\n",
    "print (\"Nombre: \",nombre,\"\\nEdad: \",edad,\"\\nCorreo:\",correo)"
   ]
  },
  {
   "attachments": {},
   "cell_type": "markdown",
   "metadata": {},
   "source": [
    "### Variables"
   ]
  },
  {
   "cell_type": "code",
   "execution_count": 3,
   "metadata": {},
   "outputs": [],
   "source": [
    "planetas_del_sistema_solar = 8 #int\n",
    "distancia_alfa_centauri = 4.367 # float, años luz\n",
    "autorizacion = True #bolean\n",
    "mision = \"Artemis 1\" #string"
   ]
  },
  {
   "cell_type": "code",
   "execution_count": 4,
   "metadata": {},
   "outputs": [
    {
     "data": {
      "text/plain": [
       "float"
      ]
     },
     "execution_count": 4,
     "metadata": {},
     "output_type": "execute_result"
    }
   ],
   "source": [
    "type (mision)\n",
    "type (distancia_alfa_centauri)"
   ]
  },
  {
   "cell_type": "code",
   "execution_count": 5,
   "metadata": {},
   "outputs": [
    {
     "name": "stdout",
     "output_type": "stream",
     "text": [
      "<class 'float'> <class 'int'> <class 'bool'> <class 'str'>\n"
     ]
    }
   ],
   "source": [
    "print(type(distancia_alfa_centauri),\n",
    "      type(planetas_del_sistema_solar),\n",
    "      type(autorizacion), \n",
    "      type(mision))"
   ]
  },
  {
   "attachments": {},
   "cell_type": "markdown",
   "metadata": {},
   "source": [
    "### Operadores\n"
   ]
  },
  {
   "cell_type": "code",
   "execution_count": 6,
   "metadata": {},
   "outputs": [
    {
     "name": "stdout",
     "output_type": "stream",
     "text": [
      "Suma =  10 , Tipo de dato:  <class 'int'> \n",
      "Resta =  0 , Tipo de dato:  <class 'int'> \n",
      "División =  1.0 , Tipo de dato:  <class 'float'> \n",
      "Multiplicacion =  25 , Tipo de dato:  <class 'int'>\n"
     ]
    }
   ],
   "source": [
    "a = int(input (\"Escribe el valor 1\"))\n",
    "b = int(input (\"Escribe el valor 2\"))\n",
    "\n",
    "suma = a + b\n",
    "resta = a - b\n",
    "division = a / b\n",
    "multiplicacion = a * b\n",
    "\n",
    "print (\"Suma = \", suma,\", Tipo de dato: \", type(suma),\n",
    "       \"\\nResta = \", resta, \", Tipo de dato: \", type(resta),\n",
    "       \"\\nDivisión = \", division,\", Tipo de dato: \", type(division),\n",
    "       \"\\nMultiplicacion = \", multiplicacion, \", Tipo de dato: \", type(multiplicacion))"
   ]
  }
 ],
 "metadata": {
  "kernelspec": {
   "display_name": "Python 3",
   "language": "python",
   "name": "python3"
  },
  "language_info": {
   "codemirror_mode": {
    "name": "ipython",
    "version": 3
   },
   "file_extension": ".py",
   "mimetype": "text/x-python",
   "name": "python",
   "nbconvert_exporter": "python",
   "pygments_lexer": "ipython3",
   "version": "3.9.12"
  },
  "orig_nbformat": 4,
  "vscode": {
   "interpreter": {
    "hash": "d6f8efb7a0b665dda0b04e6e82c4d7abbc35da41f6775fdaeec5fef172efb971"
   }
  }
 },
 "nbformat": 4,
 "nbformat_minor": 2
}
