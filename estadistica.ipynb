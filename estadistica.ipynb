{
 "cells": [
  {
   "attachments": {},
   "cell_type": "markdown",
   "metadata": {},
   "source": [
    "# Estadistica con Python\n",
    "\n",
    "## Librería Pandas\n",
    "\n",
    "### Importamos las librerías que usaremos\n",
    "La convención común es importar pandas como \"pd\""
   ]
  },
  {
   "cell_type": "code",
   "execution_count": null,
   "metadata": {},
   "outputs": [],
   "source": [
    "import pandas as pd\n",
    "import numpy as np\n",
    "import matplotlib.pyplot as plt"
   ]
  },
  {
   "attachments": {},
   "cell_type": "markdown",
   "metadata": {},
   "source": [
    "### Creamos un dataset con los datos de un electrocardiograma\n",
    "\n",
    "La función head() nos ayuda a ver las primeras lineas del dataframe"
   ]
  },
  {
   "cell_type": "code",
   "execution_count": null,
   "metadata": {},
   "outputs": [],
   "source": [
    "ecg = pd.read_csv (\"ecg.csv\", header = None, low_memory=False)\n",
    "\n",
    "ecg.head(20)\n"
   ]
  },
  {
   "attachments": {},
   "cell_type": "markdown",
   "metadata": {},
   "source": [
    "### Separamos el dataframe"
   ]
  },
  {
   "cell_type": "code",
   "execution_count": null,
   "metadata": {},
   "outputs": [],
   "source": [
    "\n",
    "\n",
    "# Dividimos el DataFrame en dos\n",
    "info = ecg.iloc[:17]  # Seleccionamos las filas de información\n",
    "data = ecg.iloc[17:]  # Seleccionamos las filas de datos\n",
    "\n",
    "print(info)\n",
    "print(data)\n"
   ]
  },
  {
   "attachments": {},
   "cell_type": "markdown",
   "metadata": {},
   "source": [
    "### Limpiamos las columnas sin información"
   ]
  },
  {
   "cell_type": "code",
   "execution_count": null,
   "metadata": {},
   "outputs": [],
   "source": [
    "# Eliminamos las columnas sin información\n",
    "data.drop([1,2], axis=1, inplace=True)\n",
    "\n",
    "data.head()"
   ]
  },
  {
   "cell_type": "code",
   "execution_count": null,
   "metadata": {},
   "outputs": [],
   "source": [
    "# Revisamos el tipo de datos que almacena\n",
    "\n",
    "data[0] = data[0].astype(int)\n",
    "\n",
    "print (data.dtypes)\n"
   ]
  },
  {
   "attachments": {},
   "cell_type": "markdown",
   "metadata": {},
   "source": [
    "### Graficamos la señal para ver la señal completa"
   ]
  },
  {
   "cell_type": "code",
   "execution_count": null,
   "metadata": {},
   "outputs": [],
   "source": [
    "#Le damos fomrato para poder graficar\n",
    "signal = np.ravel(data.to_numpy())\n",
    "\n",
    "p = 0.00002 # Sampling period\n",
    "time = np.arange(len(signal))*p   #Tiempo de la señal\n",
    "\n",
    "plt.plot(time,signal)\n",
    "plt.suptitle('Electrocardiograma del Luis', fontsize = 20)\n",
    "plt.xlabel (\"Time\", fontsize = 13)\n",
    "plt.ylabel (\"Amplitude\", fontsize = 13)\n",
    "#plt.xlim(7.5,15)"
   ]
  },
  {
   "attachments": {},
   "cell_type": "markdown",
   "metadata": {},
   "source": [
    "## Calculamos algunas variables estadisticas"
   ]
  },
  {
   "cell_type": "code",
   "execution_count": null,
   "metadata": {},
   "outputs": [],
   "source": [
    "data.describe() #Descripción básica del dataframe"
   ]
  },
  {
   "cell_type": "code",
   "execution_count": null,
   "metadata": {},
   "outputs": [],
   "source": [
    "promedio = data.mean()#[0]\n",
    "mediana = data.median ()#[0]\n",
    "moda = data[0].mode()#[0]\n",
    "\n",
    "print(promedio)\n",
    "print (mediana)\n",
    "print(moda)\n"
   ]
  },
  {
   "cell_type": "code",
   "execution_count": null,
   "metadata": {},
   "outputs": [],
   "source": [
    "desviacion_estandar = data.std()[0]\n",
    "varianza = data.var()[0]\n",
    "\n",
    "print (desviacion_estandar)\n",
    "print(varianza)"
   ]
  },
  {
   "cell_type": "code",
   "execution_count": null,
   "metadata": {},
   "outputs": [],
   "source": [
    "suma = data.sum ()[0]\n",
    "\n",
    "print (suma)"
   ]
  },
  {
   "cell_type": "code",
   "execution_count": null,
   "metadata": {},
   "outputs": [],
   "source": [
    "minimo = data.min ()[0]\n",
    "maximo = data.max ()[0]\n",
    "\n",
    "print(minimo)\n",
    "print(maximo)"
   ]
  },
  {
   "cell_type": "code",
   "execution_count": null,
   "metadata": {},
   "outputs": [],
   "source": [
    "asimetria = data.skew()[0]\n",
    "curtosis = data.kurt()[0]\n",
    "\n",
    "print (asimetria)\n",
    "print (curtosis)"
   ]
  },
  {
   "cell_type": "code",
   "execution_count": null,
   "metadata": {},
   "outputs": [],
   "source": [
    "cuartil_1 = data.quantile(0.25)[0]\n",
    "cuartil_2 = data.quantile(0.5)[0]\n",
    "cuartil_3 = data.quantile(0.75)[0]\n",
    "\n",
    "print (cuartil_1)\n",
    "print (cuartil_2)\n",
    "print (cuartil_3)\n"
   ]
  },
  {
   "attachments": {},
   "cell_type": "markdown",
   "metadata": {},
   "source": [
    "### Podemos guardar todas las variables estadísticas para usarlas en otros procesos"
   ]
  },
  {
   "cell_type": "code",
   "execution_count": null,
   "metadata": {},
   "outputs": [],
   "source": [
    "data_instance = {'Promedio': [],\n",
    "                 'Mediana': [],\n",
    "                 'Moda': [],\n",
    "                 'Desviación estandar': [],\n",
    "                 'Varianza': [],\n",
    "                 'Suma': [],\n",
    "                 'Mínimo': [],\n",
    "                 'Máximo': [],\n",
    "                 'Asimetria': [],\n",
    "                 'Curtosis': [],\n",
    "                 'Cuartil 1': [],\n",
    "                 'Cuartil 2': [],\n",
    "                 'Cuartil 3': []}"
   ]
  },
  {
   "cell_type": "code",
   "execution_count": null,
   "metadata": {},
   "outputs": [],
   "source": [
    "data_instance ['Promedio'].append(promedio)\n",
    "data_instance ['Mediana'].append(mediana)\n",
    "data_instance ['Moda'].append(moda)\n",
    "data_instance ['Desviación estandar'].append(desviacion_estandar)\n",
    "data_instance ['Varianza'].append(varianza)\n",
    "data_instance ['Suma'].append(suma)\n",
    "data_instance ['Mínimo'].append(minimo)\n",
    "data_instance ['Máximo'].append(maximo)\n",
    "data_instance ['Asimetria'].append(asimetria)\n",
    "data_instance ['Curtosis'].append(curtosis)\n",
    "data_instance ['Cuartil 1'].append(cuartil_1)\n",
    "data_instance ['Cuartil 2'].append(cuartil_2)\n",
    "data_instance ['Cuartil 3'].append(cuartil_3)"
   ]
  },
  {
   "cell_type": "code",
   "execution_count": null,
   "metadata": {},
   "outputs": [],
   "source": [
    "data_stats = pd.DataFrame(data=data_instance)\n",
    "data_stats.head()\n",
    "#data_stats.to_csv ('Stats.csv')"
   ]
  }
 ],
 "metadata": {
  "kernelspec": {
   "display_name": "lugar",
   "language": "python",
   "name": "python3"
  },
  "language_info": {
   "codemirror_mode": {
    "name": "ipython",
    "version": 3
   },
   "file_extension": ".py",
   "mimetype": "text/x-python",
   "name": "python",
   "nbconvert_exporter": "python",
   "pygments_lexer": "ipython3",
   "version": "3.9.16"
  },
  "orig_nbformat": 4
 },
 "nbformat": 4,
 "nbformat_minor": 2
}
