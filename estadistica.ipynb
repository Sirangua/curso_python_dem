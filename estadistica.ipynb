{
 "cells": [
  {
   "attachments": {},
   "cell_type": "markdown",
   "metadata": {},
   "source": [
    "# Estadistica con Python\n",
    "\n",
    "## Librería Pandas\n",
    "\n",
    "### Importamos las librerías que usaremos\n",
    "La convención común es importar pandas como \"pd\""
   ]
  },
  {
   "cell_type": "code",
   "execution_count": 2,
   "metadata": {},
   "outputs": [],
   "source": [
    "import pandas as pd\n",
    "import numpy as np\n",
    "import matplotlib.pyplot as plt"
   ]
  },
  {
   "attachments": {},
   "cell_type": "markdown",
   "metadata": {},
   "source": [
    "### Creamos un dataset con los datos de un electrocardiograma\n",
    "\n",
    "La función head() nos ayuda a ver las primeras lineas del dataframe"
   ]
  },
  {
   "cell_type": "code",
   "execution_count": 4,
   "metadata": {},
   "outputs": [
    {
     "data": {
      "text/html": [
       "<div>\n",
       "<style scoped>\n",
       "    .dataframe tbody tr th:only-of-type {\n",
       "        vertical-align: middle;\n",
       "    }\n",
       "\n",
       "    .dataframe tbody tr th {\n",
       "        vertical-align: top;\n",
       "    }\n",
       "\n",
       "    .dataframe thead th {\n",
       "        text-align: right;\n",
       "    }\n",
       "</style>\n",
       "<table border=\"1\" class=\"dataframe\">\n",
       "  <thead>\n",
       "    <tr style=\"text-align: right;\">\n",
       "      <th></th>\n",
       "      <th>0</th>\n",
       "      <th>1</th>\n",
       "      <th>2</th>\n",
       "    </tr>\n",
       "  </thead>\n",
       "  <tbody>\n",
       "    <tr>\n",
       "      <th>0</th>\n",
       "      <td>Memory Length</td>\n",
       "      <td>1000000</td>\n",
       "      <td>NaN</td>\n",
       "    </tr>\n",
       "    <tr>\n",
       "      <th>1</th>\n",
       "      <td>Trigger Level</td>\n",
       "      <td>1.36000e+00</td>\n",
       "      <td>NaN</td>\n",
       "    </tr>\n",
       "    <tr>\n",
       "      <th>2</th>\n",
       "      <td>Source</td>\n",
       "      <td>CH2</td>\n",
       "      <td>NaN</td>\n",
       "    </tr>\n",
       "    <tr>\n",
       "      <th>3</th>\n",
       "      <td>Probe</td>\n",
       "      <td>1.0X</td>\n",
       "      <td>NaN</td>\n",
       "    </tr>\n",
       "    <tr>\n",
       "      <th>4</th>\n",
       "      <td>Vertical Units</td>\n",
       "      <td>V</td>\n",
       "      <td>NaN</td>\n",
       "    </tr>\n",
       "    <tr>\n",
       "      <th>5</th>\n",
       "      <td>Vertical Scale</td>\n",
       "      <td>1.00000e-01</td>\n",
       "      <td>NaN</td>\n",
       "    </tr>\n",
       "    <tr>\n",
       "      <th>6</th>\n",
       "      <td>Vertical Position</td>\n",
       "      <td>0.00000e+00</td>\n",
       "      <td>NaN</td>\n",
       "    </tr>\n",
       "    <tr>\n",
       "      <th>7</th>\n",
       "      <td>Horizontal Units</td>\n",
       "      <td>S</td>\n",
       "      <td>NaN</td>\n",
       "    </tr>\n",
       "    <tr>\n",
       "      <th>8</th>\n",
       "      <td>Horizontal Scale</td>\n",
       "      <td>1.00000e+00</td>\n",
       "      <td>NaN</td>\n",
       "    </tr>\n",
       "    <tr>\n",
       "      <th>9</th>\n",
       "      <td>Horizontal Position</td>\n",
       "      <td>0.0000000e+00</td>\n",
       "      <td>NaN</td>\n",
       "    </tr>\n",
       "    <tr>\n",
       "      <th>10</th>\n",
       "      <td>Horizontal Mode</td>\n",
       "      <td>Roll Mode</td>\n",
       "      <td>NaN</td>\n",
       "    </tr>\n",
       "    <tr>\n",
       "      <th>11</th>\n",
       "      <td>Waveform Last Dot Address</td>\n",
       "      <td>1000000</td>\n",
       "      <td>NaN</td>\n",
       "    </tr>\n",
       "    <tr>\n",
       "      <th>12</th>\n",
       "      <td>Sampling Period</td>\n",
       "      <td>2.00000e-05</td>\n",
       "      <td>NaN</td>\n",
       "    </tr>\n",
       "    <tr>\n",
       "      <th>13</th>\n",
       "      <td>Firmware</td>\n",
       "      <td>V1.12</td>\n",
       "      <td>NaN</td>\n",
       "    </tr>\n",
       "    <tr>\n",
       "      <th>14</th>\n",
       "      <td>Time</td>\n",
       "      <td></td>\n",
       "      <td></td>\n",
       "    </tr>\n",
       "    <tr>\n",
       "      <th>15</th>\n",
       "      <td>Mode</td>\n",
       "      <td>Fast</td>\n",
       "      <td>NaN</td>\n",
       "    </tr>\n",
       "    <tr>\n",
       "      <th>16</th>\n",
       "      <td>Waveform Data</td>\n",
       "      <td>NaN</td>\n",
       "      <td>NaN</td>\n",
       "    </tr>\n",
       "    <tr>\n",
       "      <th>17</th>\n",
       "      <td>-38</td>\n",
       "      <td>NaN</td>\n",
       "      <td>NaN</td>\n",
       "    </tr>\n",
       "    <tr>\n",
       "      <th>18</th>\n",
       "      <td>-38</td>\n",
       "      <td>NaN</td>\n",
       "      <td>NaN</td>\n",
       "    </tr>\n",
       "    <tr>\n",
       "      <th>19</th>\n",
       "      <td>-38</td>\n",
       "      <td>NaN</td>\n",
       "      <td>NaN</td>\n",
       "    </tr>\n",
       "  </tbody>\n",
       "</table>\n",
       "</div>"
      ],
      "text/plain": [
       "                            0              1    2\n",
       "0               Memory Length        1000000  NaN\n",
       "1               Trigger Level    1.36000e+00  NaN\n",
       "2                      Source            CH2  NaN\n",
       "3                       Probe           1.0X  NaN\n",
       "4              Vertical Units              V  NaN\n",
       "5              Vertical Scale    1.00000e-01  NaN\n",
       "6           Vertical Position    0.00000e+00  NaN\n",
       "7            Horizontal Units              S  NaN\n",
       "8            Horizontal Scale    1.00000e+00  NaN\n",
       "9         Horizontal Position  0.0000000e+00  NaN\n",
       "10            Horizontal Mode      Roll Mode  NaN\n",
       "11  Waveform Last Dot Address        1000000  NaN\n",
       "12            Sampling Period    2.00000e-05  NaN\n",
       "13                   Firmware          V1.12  NaN\n",
       "14                       Time                    \n",
       "15                       Mode           Fast  NaN\n",
       "16              Waveform Data            NaN  NaN\n",
       "17                        -38            NaN  NaN\n",
       "18                        -38            NaN  NaN\n",
       "19                        -38            NaN  NaN"
      ]
     },
     "execution_count": 4,
     "metadata": {},
     "output_type": "execute_result"
    }
   ],
   "source": [
    "ecg = pd.read_csv (\"ecg.csv\", header = None, low_memory=False)\n",
    "\n",
    "ecg.head(20)\n"
   ]
  },
  {
   "attachments": {},
   "cell_type": "markdown",
   "metadata": {},
   "source": [
    "### Separamos el dataframe"
   ]
  },
  {
   "cell_type": "code",
   "execution_count": 5,
   "metadata": {},
   "outputs": [
    {
     "name": "stdout",
     "output_type": "stream",
     "text": [
      "                            0              1    2\n",
      "0               Memory Length        1000000  NaN\n",
      "1               Trigger Level    1.36000e+00  NaN\n",
      "2                      Source            CH2  NaN\n",
      "3                       Probe           1.0X  NaN\n",
      "4              Vertical Units              V  NaN\n",
      "5              Vertical Scale    1.00000e-01  NaN\n",
      "6           Vertical Position    0.00000e+00  NaN\n",
      "7            Horizontal Units              S  NaN\n",
      "8            Horizontal Scale    1.00000e+00  NaN\n",
      "9         Horizontal Position  0.0000000e+00  NaN\n",
      "10            Horizontal Mode      Roll Mode  NaN\n",
      "11  Waveform Last Dot Address        1000000  NaN\n",
      "12            Sampling Period    2.00000e-05  NaN\n",
      "13                   Firmware          V1.12  NaN\n",
      "14                       Time                    \n",
      "15                       Mode           Fast  NaN\n",
      "16              Waveform Data            NaN  NaN\n",
      "           0    1    2\n",
      "17       -38  NaN  NaN\n",
      "18       -38  NaN  NaN\n",
      "19       -38  NaN  NaN\n",
      "20       -38  NaN  NaN\n",
      "21       -38  NaN  NaN\n",
      "...      ...  ...  ...\n",
      "1000012    6  NaN  NaN\n",
      "1000013    6  NaN  NaN\n",
      "1000014    6  NaN  NaN\n",
      "1000015    6  NaN  NaN\n",
      "1000016    6  NaN  NaN\n",
      "\n",
      "[1000000 rows x 3 columns]\n"
     ]
    }
   ],
   "source": [
    "\n",
    "\n",
    "# Dividimos el DataFrame en dos\n",
    "info = ecg.iloc[:17]  # Seleccionamos las filas de información\n",
    "data = ecg.iloc[17:]  # Seleccionamos las filas de datos\n",
    "\n",
    "print(info)\n",
    "print(data)\n"
   ]
  },
  {
   "attachments": {},
   "cell_type": "markdown",
   "metadata": {},
   "source": [
    "### Limpiamos las columnas sin información"
   ]
  },
  {
   "cell_type": "code",
   "execution_count": 7,
   "metadata": {},
   "outputs": [
    {
     "name": "stderr",
     "output_type": "stream",
     "text": [
      "C:\\Users\\emma\\AppData\\Local\\Temp\\ipykernel_8988\\1963417008.py:2: SettingWithCopyWarning: \n",
      "A value is trying to be set on a copy of a slice from a DataFrame\n",
      "\n",
      "See the caveats in the documentation: https://pandas.pydata.org/pandas-docs/stable/user_guide/indexing.html#returning-a-view-versus-a-copy\n",
      "  data.drop([1,2], axis=1, inplace=True)\n"
     ]
    },
    {
     "data": {
      "text/html": [
       "<div>\n",
       "<style scoped>\n",
       "    .dataframe tbody tr th:only-of-type {\n",
       "        vertical-align: middle;\n",
       "    }\n",
       "\n",
       "    .dataframe tbody tr th {\n",
       "        vertical-align: top;\n",
       "    }\n",
       "\n",
       "    .dataframe thead th {\n",
       "        text-align: right;\n",
       "    }\n",
       "</style>\n",
       "<table border=\"1\" class=\"dataframe\">\n",
       "  <thead>\n",
       "    <tr style=\"text-align: right;\">\n",
       "      <th></th>\n",
       "      <th>0</th>\n",
       "    </tr>\n",
       "  </thead>\n",
       "  <tbody>\n",
       "    <tr>\n",
       "      <th>17</th>\n",
       "      <td>-38</td>\n",
       "    </tr>\n",
       "    <tr>\n",
       "      <th>18</th>\n",
       "      <td>-38</td>\n",
       "    </tr>\n",
       "    <tr>\n",
       "      <th>19</th>\n",
       "      <td>-38</td>\n",
       "    </tr>\n",
       "    <tr>\n",
       "      <th>20</th>\n",
       "      <td>-38</td>\n",
       "    </tr>\n",
       "    <tr>\n",
       "      <th>21</th>\n",
       "      <td>-38</td>\n",
       "    </tr>\n",
       "  </tbody>\n",
       "</table>\n",
       "</div>"
      ],
      "text/plain": [
       "      0\n",
       "17  -38\n",
       "18  -38\n",
       "19  -38\n",
       "20  -38\n",
       "21  -38"
      ]
     },
     "execution_count": 7,
     "metadata": {},
     "output_type": "execute_result"
    }
   ],
   "source": [
    "# Eliminamos las columnas sin información\n",
    "data.drop([1,2], axis=1, inplace=True)\n",
    "\n",
    "data.head()"
   ]
  },
  {
   "cell_type": "code",
   "execution_count": 9,
   "metadata": {},
   "outputs": [
    {
     "name": "stdout",
     "output_type": "stream",
     "text": [
      "0    int32\n",
      "dtype: object\n"
     ]
    },
    {
     "name": "stderr",
     "output_type": "stream",
     "text": [
      "C:\\Users\\emma\\AppData\\Local\\Temp\\ipykernel_8988\\125717346.py:3: SettingWithCopyWarning: \n",
      "A value is trying to be set on a copy of a slice from a DataFrame.\n",
      "Try using .loc[row_indexer,col_indexer] = value instead\n",
      "\n",
      "See the caveats in the documentation: https://pandas.pydata.org/pandas-docs/stable/user_guide/indexing.html#returning-a-view-versus-a-copy\n",
      "  data[0] = data[0].astype(int)\n"
     ]
    }
   ],
   "source": [
    "# Revisamos el tipo de datos que almacena\n",
    "\n",
    "data[0] = data[0].astype(int)\n",
    "\n",
    "print (data.dtypes)\n"
   ]
  },
  {
   "attachments": {},
   "cell_type": "markdown",
   "metadata": {},
   "source": [
    "### Graficamos la señal para ver la señal completa"
   ]
  },
  {
   "cell_type": "code",
   "execution_count": 11,
   "metadata": {},
   "outputs": [
    {
     "data": {
      "text/plain": [
       "(7.5, 15.0)"
      ]
     },
     "execution_count": 11,
     "metadata": {},
     "output_type": "execute_result"
    },
    {
     "data": {
      "image/png": "[encoded data removed]",
      "text/plain": [
       "<Figure size 640x480 with 1 Axes>"
      ]
     },
     "metadata": {},
     "output_type": "display_data"
    }
   ],
   "source": [
    "#Le damos fomrato para poder graficar\n",
    "signal = np.ravel(data.to_numpy())\n",
    "\n",
    "p = 0.00002 # Sampling period\n",
    "time = np.arange(len(signal))*p   #Tiempo de la señal\n",
    "\n",
    "plt.plot(time,signal)\n",
    "plt.suptitle('Electrocardiograma del Luis', fontsize = 20)\n",
    "plt.xlabel (\"Time\", fontsize = 13)\n",
    "plt.ylabel (\"Amplitude\", fontsize = 13)\n",
    "plt.xlim(7.5,15)"
   ]
  },
  {
   "attachments": {},
   "cell_type": "markdown",
   "metadata": {},
   "source": [
    "## Calculamos algunas variables estadisticas"
   ]
  },
  {
   "cell_type": "code",
   "execution_count": 12,
   "metadata": {},
   "outputs": [
    {
     "data": {
      "text/html": [
       "<div>\n",
       "<style scoped>\n",
       "    .dataframe tbody tr th:only-of-type {\n",
       "        vertical-align: middle;\n",
       "    }\n",
       "\n",
       "    .dataframe tbody tr th {\n",
       "        vertical-align: top;\n",
       "    }\n",
       "\n",
       "    .dataframe thead th {\n",
       "        text-align: right;\n",
       "    }\n",
       "</style>\n",
       "<table border=\"1\" class=\"dataframe\">\n",
       "  <thead>\n",
       "    <tr style=\"text-align: right;\">\n",
       "      <th></th>\n",
       "      <th>0</th>\n",
       "    </tr>\n",
       "  </thead>\n",
       "  <tbody>\n",
       "    <tr>\n",
       "      <th>count</th>\n",
       "      <td>1000000.000000</td>\n",
       "    </tr>\n",
       "    <tr>\n",
       "      <th>mean</th>\n",
       "      <td>-7.659693</td>\n",
       "    </tr>\n",
       "    <tr>\n",
       "      <th>std</th>\n",
       "      <td>20.400998</td>\n",
       "    </tr>\n",
       "    <tr>\n",
       "      <th>min</th>\n",
       "      <td>-76.000000</td>\n",
       "    </tr>\n",
       "    <tr>\n",
       "      <th>25%</th>\n",
       "      <td>-24.000000</td>\n",
       "    </tr>\n",
       "    <tr>\n",
       "      <th>50%</th>\n",
       "      <td>-2.000000</td>\n",
       "    </tr>\n",
       "    <tr>\n",
       "      <th>75%</th>\n",
       "      <td>7.000000</td>\n",
       "    </tr>\n",
       "    <tr>\n",
       "      <th>max</th>\n",
       "      <td>66.000000</td>\n",
       "    </tr>\n",
       "  </tbody>\n",
       "</table>\n",
       "</div>"
      ],
      "text/plain": [
       "                    0\n",
       "count  1000000.000000\n",
       "mean        -7.659693\n",
       "std         20.400998\n",
       "min        -76.000000\n",
       "25%        -24.000000\n",
       "50%         -2.000000\n",
       "75%          7.000000\n",
       "max         66.000000"
      ]
     },
     "execution_count": 12,
     "metadata": {},
     "output_type": "execute_result"
    }
   ],
   "source": [
    "data.describe() #Descripción básica del dataframe"
   ]
  },
  {
   "cell_type": "code",
   "execution_count": 16,
   "metadata": {},
   "outputs": [
    {
     "name": "stdout",
     "output_type": "stream",
     "text": [
      "-7.659693\n",
      "-2.0\n",
      "6\n"
     ]
    }
   ],
   "source": [
    "promedio = data.mean()[0]\n",
    "mediana = data.median ()[0]\n",
    "moda = data[0].mode()[0]\n",
    "\n",
    "print(promedio)\n",
    "print (mediana)\n",
    "print(moda)\n"
   ]
  },
  {
   "cell_type": "code",
   "execution_count": 17,
   "metadata": {},
   "outputs": [
    {
     "name": "stdout",
     "output_type": "stream",
     "text": [
      "20.400997876287384\n",
      "416.20071434828236\n"
     ]
    }
   ],
   "source": [
    "desviacion_estandar = data.std()[0]\n",
    "varianza = data.var()[0]\n",
    "\n",
    "print (desviacion_estandar)\n",
    "print(varianza)"
   ]
  },
  {
   "cell_type": "code",
   "execution_count": 18,
   "metadata": {},
   "outputs": [
    {
     "name": "stdout",
     "output_type": "stream",
     "text": [
      "-7659693\n"
     ]
    }
   ],
   "source": [
    "suma = data.sum ()[0]\n",
    "\n",
    "print (suma)"
   ]
  },
  {
   "cell_type": "code",
   "execution_count": 19,
   "metadata": {},
   "outputs": [
    {
     "name": "stdout",
     "output_type": "stream",
     "text": [
      "-76\n",
      "66\n"
     ]
    }
   ],
   "source": [
    "minimo = data.min ()[0]\n",
    "maximo = data.max ()[0]\n",
    "\n",
    "print(minimo)\n",
    "print(maximo)"
   ]
  },
  {
   "cell_type": "code",
   "execution_count": 20,
   "metadata": {},
   "outputs": [
    {
     "name": "stdout",
     "output_type": "stream",
     "text": [
      "-0.33987843321133393\n",
      "0.5663182635149262\n"
     ]
    }
   ],
   "source": [
    "asimetria = data.skew()[0]\n",
    "curtosis = data.kurt()[0]\n",
    "\n",
    "print (asimetria)\n",
    "print (curtosis)"
   ]
  },
  {
   "cell_type": "code",
   "execution_count": 21,
   "metadata": {},
   "outputs": [
    {
     "name": "stdout",
     "output_type": "stream",
     "text": [
      "-24.0\n",
      "-2.0\n",
      "7.0\n"
     ]
    }
   ],
   "source": [
    "cuartil_1 = data.quantile(0.25)[0]\n",
    "cuartil_2 = data.quantile(0.5)[0]\n",
    "cuartil_3 = data.quantile(0.75)[0]\n",
    "\n",
    "print (cuartil_1)\n",
    "print (cuartil_2)\n",
    "print (cuartil_3)\n"
   ]
  },
  {
   "attachments": {},
   "cell_type": "markdown",
   "metadata": {},
   "source": [
    "### Podemos guardar todas las variables estadísticas para usarlas en otros procesos"
   ]
  },
  {
   "cell_type": "code",
   "execution_count": 22,
   "metadata": {},
   "outputs": [],
   "source": [
    "data_instance = {'Promedio': [],\n",
    "                 'Mediana': [],\n",
    "                 'Moda': [],\n",
    "                 'Desviación estandar': [],\n",
    "                 'Varianza': [],\n",
    "                 'Suma': [],\n",
    "                 'Mínimo': [],\n",
    "                 'Máximo': [],\n",
    "                 'Asimetria': [],\n",
    "                 'Curtosis': [],\n",
    "                 'Cuartil 1': [],\n",
    "                 'Cuartil 2': [],\n",
    "                 'Cuartil 3': []}"
   ]
  },
  {
   "cell_type": "code",
   "execution_count": 24,
   "metadata": {},
   "outputs": [],
   "source": [
    "data_instance ['Promedio'].append(promedio)\n",
    "data_instance ['Mediana'].append(mediana)\n",
    "data_instance ['Moda'].append(moda)\n",
    "data_instance ['Desviación estandar'].append(desviacion_estandar)\n",
    "data_instance ['Varianza'].append(varianza)\n",
    "data_instance ['Suma'].append(suma)\n",
    "data_instance ['Mínimo'].append(minimo)\n",
    "data_instance ['Máximo'].append(maximo)\n",
    "data_instance ['Asimetria'].append(asimetria)\n",
    "data_instance ['Curtosis'].append(curtosis)\n",
    "data_instance ['Cuartil 1'].append(cuartil_1)\n",
    "data_instance ['Cuartil 2'].append(cuartil_2)\n",
    "data_instance ['Cuartil 3'].append(cuartil_3)"
   ]
  },
  {
   "cell_type": "code",
   "execution_count": 26,
   "metadata": {},
   "outputs": [],
   "source": [
    "data_stats = pd.DataFrame(data=data_instance)\n",
    "data_stats.head()\n",
    "data_stats.to_csv ('Stats.csv')"
   ]
  }
 ],
 "metadata": {
  "kernelspec": {
   "display_name": "lugar",
   "language": "python",
   "name": "python3"
  },
  "language_info": {
   "codemirror_mode": {
    "name": "ipython",
    "version": 3
   },
   "file_extension": ".py",
   "mimetype": "text/x-python",
   "name": "python",
   "nbconvert_exporter": "python",
   "pygments_lexer": "ipython3",
   "version": "3.9.16"
  },
  "orig_nbformat": 4
 },
 "nbformat": 4,
 "nbformat_minor": 2
}
