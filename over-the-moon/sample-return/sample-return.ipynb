{
 "cells": [
  {
   "attachments": {},
   "cell_type": "markdown",
   "metadata": {},
   "source": [
    "# Planeación de una misión lunar mediante pandas de Python\n",
    "\n",
    "En la primera celda de Python del archivo sample-return.ipynb, importe pandas y lea el archivo de datos que contiene como un elemento dataframe de pandas:"
   ]
  },
  {
   "cell_type": "code",
   "execution_count": 43,
   "metadata": {},
   "outputs": [],
   "source": [
    "import pandas as pd \n",
    "\n",
    "rock_samples = pd.read_csv('data/rocksamples.csv')"
   ]
  },
  {
   "attachments": {},
   "cell_type": "markdown",
   "metadata": {},
   "source": [
    "Para asegurarse de que todo se carga correctamente, imprima las cinco primeras líneas del nuevo elemento dataframe mediante head()"
   ]
  },
  {
   "cell_type": "code",
   "execution_count": 44,
   "metadata": {},
   "outputs": [
    {
     "data": {
      "text/html": [
       "<div>\n",
       "<style scoped>\n",
       "    .dataframe tbody tr th:only-of-type {\n",
       "        vertical-align: middle;\n",
       "    }\n",
       "\n",
       "    .dataframe tbody tr th {\n",
       "        vertical-align: top;\n",
       "    }\n",
       "\n",
       "    .dataframe thead th {\n",
       "        text-align: right;\n",
       "    }\n",
       "</style>\n",
       "<table border=\"1\" class=\"dataframe\">\n",
       "  <thead>\n",
       "    <tr style=\"text-align: right;\">\n",
       "      <th></th>\n",
       "      <th>ID</th>\n",
       "      <th>Mission</th>\n",
       "      <th>Type</th>\n",
       "      <th>Subtype</th>\n",
       "      <th>Weight (g)</th>\n",
       "      <th>Pristine (%)</th>\n",
       "    </tr>\n",
       "  </thead>\n",
       "  <tbody>\n",
       "    <tr>\n",
       "      <th>0</th>\n",
       "      <td>10001</td>\n",
       "      <td>Apollo11</td>\n",
       "      <td>Soil</td>\n",
       "      <td>Unsieved</td>\n",
       "      <td>125.8</td>\n",
       "      <td>88.36</td>\n",
       "    </tr>\n",
       "    <tr>\n",
       "      <th>1</th>\n",
       "      <td>10002</td>\n",
       "      <td>Apollo11</td>\n",
       "      <td>Soil</td>\n",
       "      <td>Unsieved</td>\n",
       "      <td>5629.0</td>\n",
       "      <td>93.73</td>\n",
       "    </tr>\n",
       "    <tr>\n",
       "      <th>2</th>\n",
       "      <td>10003</td>\n",
       "      <td>Apollo11</td>\n",
       "      <td>Basalt</td>\n",
       "      <td>Ilmenite</td>\n",
       "      <td>213.0</td>\n",
       "      <td>65.56</td>\n",
       "    </tr>\n",
       "    <tr>\n",
       "      <th>3</th>\n",
       "      <td>10004</td>\n",
       "      <td>Apollo11</td>\n",
       "      <td>Core</td>\n",
       "      <td>Unsieved</td>\n",
       "      <td>44.8</td>\n",
       "      <td>71.76</td>\n",
       "    </tr>\n",
       "    <tr>\n",
       "      <th>4</th>\n",
       "      <td>10005</td>\n",
       "      <td>Apollo11</td>\n",
       "      <td>Core</td>\n",
       "      <td>Unsieved</td>\n",
       "      <td>53.4</td>\n",
       "      <td>40.31</td>\n",
       "    </tr>\n",
       "  </tbody>\n",
       "</table>\n",
       "</div>"
      ],
      "text/plain": [
       "      ID   Mission    Type   Subtype  Weight (g)  Pristine (%)\n",
       "0  10001  Apollo11    Soil  Unsieved       125.8         88.36\n",
       "1  10002  Apollo11    Soil  Unsieved      5629.0         93.73\n",
       "2  10003  Apollo11  Basalt  Ilmenite       213.0         65.56\n",
       "3  10004  Apollo11    Core  Unsieved        44.8         71.76\n",
       "4  10005  Apollo11    Core  Unsieved        53.4         40.31"
      ]
     },
     "execution_count": 44,
     "metadata": {},
     "output_type": "execute_result"
    }
   ],
   "source": [
    "rock_samples.head()"
   ]
  },
  {
   "attachments": {},
   "cell_type": "markdown",
   "metadata": {},
   "source": [
    "El resumen de información mediante info()"
   ]
  },
  {
   "cell_type": "code",
   "execution_count": 45,
   "metadata": {},
   "outputs": [
    {
     "name": "stdout",
     "output_type": "stream",
     "text": [
      "<class 'pandas.core.frame.DataFrame'>\n",
      "RangeIndex: 2229 entries, 0 to 2228\n",
      "Data columns (total 6 columns):\n",
      " #   Column        Non-Null Count  Dtype  \n",
      "---  ------        --------------  -----  \n",
      " 0   ID            2229 non-null   int64  \n",
      " 1   Mission       2229 non-null   object \n",
      " 2   Type          2229 non-null   object \n",
      " 3   Subtype       2226 non-null   object \n",
      " 4   Weight (g)    2229 non-null   float64\n",
      " 5   Pristine (%)  2229 non-null   float64\n",
      "dtypes: float64(2), int64(1), object(3)\n",
      "memory usage: 104.6+ KB\n"
     ]
    }
   ],
   "source": [
    "rock_samples.info()"
   ]
  },
  {
   "attachments": {},
   "cell_type": "markdown",
   "metadata": {},
   "source": [
    "Para preparar los datos de muestra de rocas para cálculos posteriores, es necesario comprender que el peso del cohete se mide a menudo en kilogramos, no en gramos. Por lo tanto, debemos convertir los pesos originales de muestra de roca de gramos a kilogramos para facilitar el análisis de datos más adelante.\n",
    "\n",
    "El método apply() se utiliza para aplicar una función dada a cada elemento de la columna. La función lambda() toma un argumento 'x', que representa cada elemento de la columna 'Weight (g)', y devuelve el resultado de multiplicar 'x' por 0.001."
   ]
  },
  {
   "cell_type": "code",
   "execution_count": 46,
   "metadata": {},
   "outputs": [
    {
     "data": {
      "text/html": [
       "<div>\n",
       "<style scoped>\n",
       "    .dataframe tbody tr th:only-of-type {\n",
       "        vertical-align: middle;\n",
       "    }\n",
       "\n",
       "    .dataframe tbody tr th {\n",
       "        vertical-align: top;\n",
       "    }\n",
       "\n",
       "    .dataframe thead th {\n",
       "        text-align: right;\n",
       "    }\n",
       "</style>\n",
       "<table border=\"1\" class=\"dataframe\">\n",
       "  <thead>\n",
       "    <tr style=\"text-align: right;\">\n",
       "      <th></th>\n",
       "      <th>ID</th>\n",
       "      <th>Mission</th>\n",
       "      <th>Type</th>\n",
       "      <th>Subtype</th>\n",
       "      <th>Weight (kg)</th>\n",
       "      <th>Pristine (%)</th>\n",
       "    </tr>\n",
       "  </thead>\n",
       "  <tbody>\n",
       "    <tr>\n",
       "      <th>0</th>\n",
       "      <td>10001</td>\n",
       "      <td>Apollo11</td>\n",
       "      <td>Soil</td>\n",
       "      <td>Unsieved</td>\n",
       "      <td>0.1258</td>\n",
       "      <td>88.36</td>\n",
       "    </tr>\n",
       "    <tr>\n",
       "      <th>1</th>\n",
       "      <td>10002</td>\n",
       "      <td>Apollo11</td>\n",
       "      <td>Soil</td>\n",
       "      <td>Unsieved</td>\n",
       "      <td>5.6290</td>\n",
       "      <td>93.73</td>\n",
       "    </tr>\n",
       "    <tr>\n",
       "      <th>2</th>\n",
       "      <td>10003</td>\n",
       "      <td>Apollo11</td>\n",
       "      <td>Basalt</td>\n",
       "      <td>Ilmenite</td>\n",
       "      <td>0.2130</td>\n",
       "      <td>65.56</td>\n",
       "    </tr>\n",
       "    <tr>\n",
       "      <th>3</th>\n",
       "      <td>10004</td>\n",
       "      <td>Apollo11</td>\n",
       "      <td>Core</td>\n",
       "      <td>Unsieved</td>\n",
       "      <td>0.0448</td>\n",
       "      <td>71.76</td>\n",
       "    </tr>\n",
       "    <tr>\n",
       "      <th>4</th>\n",
       "      <td>10005</td>\n",
       "      <td>Apollo11</td>\n",
       "      <td>Core</td>\n",
       "      <td>Unsieved</td>\n",
       "      <td>0.0534</td>\n",
       "      <td>40.31</td>\n",
       "    </tr>\n",
       "  </tbody>\n",
       "</table>\n",
       "</div>"
      ],
      "text/plain": [
       "      ID   Mission    Type   Subtype  Weight (kg)  Pristine (%)\n",
       "0  10001  Apollo11    Soil  Unsieved       0.1258         88.36\n",
       "1  10002  Apollo11    Soil  Unsieved       5.6290         93.73\n",
       "2  10003  Apollo11  Basalt  Ilmenite       0.2130         65.56\n",
       "3  10004  Apollo11    Core  Unsieved       0.0448         71.76\n",
       "4  10005  Apollo11    Core  Unsieved       0.0534         40.31"
      ]
     },
     "execution_count": 46,
     "metadata": {},
     "output_type": "execute_result"
    }
   ],
   "source": [
    "rock_samples['Weight (g)'] = rock_samples['Weight (g)'].apply(lambda x : x * 0.001)\n",
    "rock_samples.rename(columns={'Weight (g)':'Weight (kg)'}, inplace=True)\n",
    "rock_samples.head()"
   ]
  },
  {
   "attachments": {},
   "cell_type": "markdown",
   "metadata": {},
   "source": [
    "Cree un elemento dataframe con el nombre rocket_info; será un resumen de los datos de cada una de las seis misiones Apolo en las que se han traído muestras. \n",
    "El metodo unique() elimina las repeticiones"
   ]
  },
  {
   "cell_type": "code",
   "execution_count": 47,
   "metadata": {},
   "outputs": [
    {
     "data": {
      "text/html": [
       "<div>\n",
       "<style scoped>\n",
       "    .dataframe tbody tr th:only-of-type {\n",
       "        vertical-align: middle;\n",
       "    }\n",
       "\n",
       "    .dataframe tbody tr th {\n",
       "        vertical-align: top;\n",
       "    }\n",
       "\n",
       "    .dataframe thead th {\n",
       "        text-align: right;\n",
       "    }\n",
       "</style>\n",
       "<table border=\"1\" class=\"dataframe\">\n",
       "  <thead>\n",
       "    <tr style=\"text-align: right;\">\n",
       "      <th></th>\n",
       "      <th>Mission</th>\n",
       "    </tr>\n",
       "  </thead>\n",
       "  <tbody>\n",
       "    <tr>\n",
       "      <th>0</th>\n",
       "      <td>Apollo11</td>\n",
       "    </tr>\n",
       "    <tr>\n",
       "      <th>1</th>\n",
       "      <td>Apollo12</td>\n",
       "    </tr>\n",
       "    <tr>\n",
       "      <th>2</th>\n",
       "      <td>Apollo14</td>\n",
       "    </tr>\n",
       "    <tr>\n",
       "      <th>3</th>\n",
       "      <td>Apollo15</td>\n",
       "    </tr>\n",
       "    <tr>\n",
       "      <th>4</th>\n",
       "      <td>Apollo16</td>\n",
       "    </tr>\n",
       "  </tbody>\n",
       "</table>\n",
       "</div>"
      ],
      "text/plain": [
       "    Mission\n",
       "0  Apollo11\n",
       "1  Apollo12\n",
       "2  Apollo14\n",
       "3  Apollo15\n",
       "4  Apollo16"
      ]
     },
     "execution_count": 47,
     "metadata": {},
     "output_type": "execute_result"
    }
   ],
   "source": [
    "missions = pd.DataFrame()\n",
    "missions['Mission'] = rock_samples['Mission'].unique()\n",
    "missions.head()"
   ]
  },
  {
   "cell_type": "code",
   "execution_count": 48,
   "metadata": {},
   "outputs": [
    {
     "name": "stdout",
     "output_type": "stream",
     "text": [
      "<class 'pandas.core.frame.DataFrame'>\n",
      "RangeIndex: 6 entries, 0 to 5\n",
      "Data columns (total 1 columns):\n",
      " #   Column   Non-Null Count  Dtype \n",
      "---  ------   --------------  ----- \n",
      " 0   Mission  6 non-null      object\n",
      "dtypes: object(1)\n",
      "memory usage: 176.0+ bytes\n"
     ]
    }
   ],
   "source": [
    "missions.info()"
   ]
  },
  {
   "attachments": {},
   "cell_type": "markdown",
   "metadata": {},
   "source": [
    "Suma total del peso de las muestras por misión\n",
    "\n",
    "Crea una serie y la une al dataframe"
   ]
  },
  {
   "cell_type": "code",
   "execution_count": 49,
   "metadata": {},
   "outputs": [
    {
     "data": {
      "text/html": [
       "<div>\n",
       "<style scoped>\n",
       "    .dataframe tbody tr th:only-of-type {\n",
       "        vertical-align: middle;\n",
       "    }\n",
       "\n",
       "    .dataframe tbody tr th {\n",
       "        vertical-align: top;\n",
       "    }\n",
       "\n",
       "    .dataframe thead th {\n",
       "        text-align: right;\n",
       "    }\n",
       "</style>\n",
       "<table border=\"1\" class=\"dataframe\">\n",
       "  <thead>\n",
       "    <tr style=\"text-align: right;\">\n",
       "      <th></th>\n",
       "      <th>Mission</th>\n",
       "      <th>Sample weight (kg)</th>\n",
       "    </tr>\n",
       "  </thead>\n",
       "  <tbody>\n",
       "    <tr>\n",
       "      <th>0</th>\n",
       "      <td>Apollo11</td>\n",
       "      <td>21.55424</td>\n",
       "    </tr>\n",
       "    <tr>\n",
       "      <th>1</th>\n",
       "      <td>Apollo12</td>\n",
       "      <td>34.34238</td>\n",
       "    </tr>\n",
       "    <tr>\n",
       "      <th>2</th>\n",
       "      <td>Apollo14</td>\n",
       "      <td>41.83363</td>\n",
       "    </tr>\n",
       "    <tr>\n",
       "      <th>3</th>\n",
       "      <td>Apollo15</td>\n",
       "      <td>75.39910</td>\n",
       "    </tr>\n",
       "    <tr>\n",
       "      <th>4</th>\n",
       "      <td>Apollo16</td>\n",
       "      <td>92.46262</td>\n",
       "    </tr>\n",
       "    <tr>\n",
       "      <th>5</th>\n",
       "      <td>Apollo17</td>\n",
       "      <td>109.44402</td>\n",
       "    </tr>\n",
       "  </tbody>\n",
       "</table>\n",
       "</div>"
      ],
      "text/plain": [
       "    Mission  Sample weight (kg)\n",
       "0  Apollo11            21.55424\n",
       "1  Apollo12            34.34238\n",
       "2  Apollo14            41.83363\n",
       "3  Apollo15            75.39910\n",
       "4  Apollo16            92.46262\n",
       "5  Apollo17           109.44402"
      ]
     },
     "execution_count": 49,
     "metadata": {},
     "output_type": "execute_result"
    }
   ],
   "source": [
    "sample_total_weight = rock_samples.groupby('Mission')['Weight (kg)'].sum()\n",
    "missions = pd.merge(missions, sample_total_weight, on='Mission')\n",
    "missions.rename(columns={'Weight (kg)':'Sample weight (kg)'}, inplace=True)\n",
    "missions"
   ]
  },
  {
   "attachments": {},
   "cell_type": "markdown",
   "metadata": {},
   "source": [
    "Obtención de la diferencia de pesos entre misiones"
   ]
  },
  {
   "cell_type": "code",
   "execution_count": 50,
   "metadata": {},
   "outputs": [
    {
     "data": {
      "text/html": [
       "<div>\n",
       "<style scoped>\n",
       "    .dataframe tbody tr th:only-of-type {\n",
       "        vertical-align: middle;\n",
       "    }\n",
       "\n",
       "    .dataframe tbody tr th {\n",
       "        vertical-align: top;\n",
       "    }\n",
       "\n",
       "    .dataframe thead th {\n",
       "        text-align: right;\n",
       "    }\n",
       "</style>\n",
       "<table border=\"1\" class=\"dataframe\">\n",
       "  <thead>\n",
       "    <tr style=\"text-align: right;\">\n",
       "      <th></th>\n",
       "      <th>Mission</th>\n",
       "      <th>Sample weight (kg)</th>\n",
       "      <th>Weight diff</th>\n",
       "    </tr>\n",
       "  </thead>\n",
       "  <tbody>\n",
       "    <tr>\n",
       "      <th>0</th>\n",
       "      <td>Apollo11</td>\n",
       "      <td>21.55424</td>\n",
       "      <td>0.00000</td>\n",
       "    </tr>\n",
       "    <tr>\n",
       "      <th>1</th>\n",
       "      <td>Apollo12</td>\n",
       "      <td>34.34238</td>\n",
       "      <td>12.78814</td>\n",
       "    </tr>\n",
       "    <tr>\n",
       "      <th>2</th>\n",
       "      <td>Apollo14</td>\n",
       "      <td>41.83363</td>\n",
       "      <td>7.49125</td>\n",
       "    </tr>\n",
       "    <tr>\n",
       "      <th>3</th>\n",
       "      <td>Apollo15</td>\n",
       "      <td>75.39910</td>\n",
       "      <td>33.56547</td>\n",
       "    </tr>\n",
       "    <tr>\n",
       "      <th>4</th>\n",
       "      <td>Apollo16</td>\n",
       "      <td>92.46262</td>\n",
       "      <td>17.06352</td>\n",
       "    </tr>\n",
       "    <tr>\n",
       "      <th>5</th>\n",
       "      <td>Apollo17</td>\n",
       "      <td>109.44402</td>\n",
       "      <td>16.98140</td>\n",
       "    </tr>\n",
       "  </tbody>\n",
       "</table>\n",
       "</div>"
      ],
      "text/plain": [
       "    Mission  Sample weight (kg)  Weight diff\n",
       "0  Apollo11            21.55424      0.00000\n",
       "1  Apollo12            34.34238     12.78814\n",
       "2  Apollo14            41.83363      7.49125\n",
       "3  Apollo15            75.39910     33.56547\n",
       "4  Apollo16            92.46262     17.06352\n",
       "5  Apollo17           109.44402     16.98140"
      ]
     },
     "execution_count": 50,
     "metadata": {},
     "output_type": "execute_result"
    }
   ],
   "source": [
    "missions['Weight diff'] = missions['Sample weight (kg)'].diff()\n",
    "missions['Weight diff'] = missions['Weight diff'].fillna(value=0)\n",
    "missions"
   ]
  },
  {
   "attachments": {},
   "cell_type": "markdown",
   "metadata": {},
   "source": [
    "Adición de datos de los módulos de mando y lunar"
   ]
  },
  {
   "cell_type": "code",
   "execution_count": 51,
   "metadata": {},
   "outputs": [
    {
     "data": {
      "text/html": [
       "<div>\n",
       "<style scoped>\n",
       "    .dataframe tbody tr th:only-of-type {\n",
       "        vertical-align: middle;\n",
       "    }\n",
       "\n",
       "    .dataframe tbody tr th {\n",
       "        vertical-align: top;\n",
       "    }\n",
       "\n",
       "    .dataframe thead th {\n",
       "        text-align: right;\n",
       "    }\n",
       "</style>\n",
       "<table border=\"1\" class=\"dataframe\">\n",
       "  <thead>\n",
       "    <tr style=\"text-align: right;\">\n",
       "      <th></th>\n",
       "      <th>Mission</th>\n",
       "      <th>Sample weight (kg)</th>\n",
       "      <th>Weight diff</th>\n",
       "      <th>Lunar module (LM)</th>\n",
       "      <th>LM mass (kg)</th>\n",
       "      <th>LM mass diff</th>\n",
       "      <th>Command module (CM)</th>\n",
       "      <th>CM mass (kg)</th>\n",
       "      <th>CM mass diff</th>\n",
       "    </tr>\n",
       "  </thead>\n",
       "  <tbody>\n",
       "    <tr>\n",
       "      <th>0</th>\n",
       "      <td>Apollo11</td>\n",
       "      <td>21.55424</td>\n",
       "      <td>0.00000</td>\n",
       "      <td>Eagle (LM-5)</td>\n",
       "      <td>15103</td>\n",
       "      <td>0.0</td>\n",
       "      <td>Columbia (CSM-107)</td>\n",
       "      <td>5560</td>\n",
       "      <td>0.0</td>\n",
       "    </tr>\n",
       "    <tr>\n",
       "      <th>1</th>\n",
       "      <td>Apollo12</td>\n",
       "      <td>34.34238</td>\n",
       "      <td>12.78814</td>\n",
       "      <td>Intrepid (LM-6)</td>\n",
       "      <td>15235</td>\n",
       "      <td>132.0</td>\n",
       "      <td>Yankee Clipper (CM-108)</td>\n",
       "      <td>5609</td>\n",
       "      <td>49.0</td>\n",
       "    </tr>\n",
       "    <tr>\n",
       "      <th>2</th>\n",
       "      <td>Apollo14</td>\n",
       "      <td>41.83363</td>\n",
       "      <td>7.49125</td>\n",
       "      <td>Antares (LM-8)</td>\n",
       "      <td>15264</td>\n",
       "      <td>29.0</td>\n",
       "      <td>Kitty Hawk (CM-110)</td>\n",
       "      <td>5758</td>\n",
       "      <td>149.0</td>\n",
       "    </tr>\n",
       "    <tr>\n",
       "      <th>3</th>\n",
       "      <td>Apollo15</td>\n",
       "      <td>75.39910</td>\n",
       "      <td>33.56547</td>\n",
       "      <td>Falcon (LM-10)</td>\n",
       "      <td>16430</td>\n",
       "      <td>1166.0</td>\n",
       "      <td>Endeavor (CM-112)</td>\n",
       "      <td>5875</td>\n",
       "      <td>117.0</td>\n",
       "    </tr>\n",
       "    <tr>\n",
       "      <th>4</th>\n",
       "      <td>Apollo16</td>\n",
       "      <td>92.46262</td>\n",
       "      <td>17.06352</td>\n",
       "      <td>Orion (LM-11)</td>\n",
       "      <td>16445</td>\n",
       "      <td>15.0</td>\n",
       "      <td>Casper (CM-113)</td>\n",
       "      <td>5840</td>\n",
       "      <td>-35.0</td>\n",
       "    </tr>\n",
       "    <tr>\n",
       "      <th>5</th>\n",
       "      <td>Apollo17</td>\n",
       "      <td>109.44402</td>\n",
       "      <td>16.98140</td>\n",
       "      <td>Challenger (LM-12)</td>\n",
       "      <td>16456</td>\n",
       "      <td>11.0</td>\n",
       "      <td>America (CM-114)</td>\n",
       "      <td>5960</td>\n",
       "      <td>120.0</td>\n",
       "    </tr>\n",
       "  </tbody>\n",
       "</table>\n",
       "</div>"
      ],
      "text/plain": [
       "    Mission  Sample weight (kg)  Weight diff   Lunar module (LM)  \\\n",
       "0  Apollo11            21.55424      0.00000        Eagle (LM-5)   \n",
       "1  Apollo12            34.34238     12.78814     Intrepid (LM-6)   \n",
       "2  Apollo14            41.83363      7.49125      Antares (LM-8)   \n",
       "3  Apollo15            75.39910     33.56547      Falcon (LM-10)   \n",
       "4  Apollo16            92.46262     17.06352       Orion (LM-11)   \n",
       "5  Apollo17           109.44402     16.98140  Challenger (LM-12)   \n",
       "\n",
       "   LM mass (kg)  LM mass diff      Command module (CM)  CM mass (kg)  \\\n",
       "0         15103           0.0       Columbia (CSM-107)          5560   \n",
       "1         15235         132.0  Yankee Clipper (CM-108)          5609   \n",
       "2         15264          29.0      Kitty Hawk (CM-110)          5758   \n",
       "3         16430        1166.0        Endeavor (CM-112)          5875   \n",
       "4         16445          15.0          Casper (CM-113)          5840   \n",
       "5         16456          11.0         America (CM-114)          5960   \n",
       "\n",
       "   CM mass diff  \n",
       "0           0.0  \n",
       "1          49.0  \n",
       "2         149.0  \n",
       "3         117.0  \n",
       "4         -35.0  \n",
       "5         120.0  "
      ]
     },
     "execution_count": 51,
     "metadata": {},
     "output_type": "execute_result"
    }
   ],
   "source": [
    "missions['Lunar module (LM)'] = ['Eagle (LM-5)', 'Intrepid (LM-6)', 'Antares (LM-8)', 'Falcon (LM-10)', 'Orion (LM-11)', 'Challenger (LM-12)']\n",
    "missions['LM mass (kg)'] = [15103, 15235, 15264, 16430, 16445, 16456]\n",
    "missions['LM mass diff'] = missions['LM mass (kg)'].diff()\n",
    "missions['LM mass diff'] = missions['LM mass diff'].fillna(value=0)\n",
    "\n",
    "missions['Command module (CM)'] = ['Columbia (CSM-107)', 'Yankee Clipper (CM-108)', 'Kitty Hawk (CM-110)', 'Endeavor (CM-112)', 'Casper (CM-113)', 'America (CM-114)']\n",
    "missions['CM mass (kg)'] = [5560, 5609, 5758, 5875, 5840, 5960]\n",
    "missions['CM mass diff'] = missions['CM mass (kg)'].diff()\n",
    "missions['CM mass diff'] = missions['CM mass diff'].fillna(value=0)\n",
    "\n",
    "missions"
   ]
  },
  {
   "attachments": {},
   "cell_type": "markdown",
   "metadata": {},
   "source": [
    "Se pueden agregar algunos totales para cada misión en los módulos lunares y de mando:"
   ]
  },
  {
   "cell_type": "code",
   "execution_count": 52,
   "metadata": {},
   "outputs": [
    {
     "data": {
      "text/html": [
       "<div>\n",
       "<style scoped>\n",
       "    .dataframe tbody tr th:only-of-type {\n",
       "        vertical-align: middle;\n",
       "    }\n",
       "\n",
       "    .dataframe tbody tr th {\n",
       "        vertical-align: top;\n",
       "    }\n",
       "\n",
       "    .dataframe thead th {\n",
       "        text-align: right;\n",
       "    }\n",
       "</style>\n",
       "<table border=\"1\" class=\"dataframe\">\n",
       "  <thead>\n",
       "    <tr style=\"text-align: right;\">\n",
       "      <th></th>\n",
       "      <th>Mission</th>\n",
       "      <th>Sample weight (kg)</th>\n",
       "      <th>Weight diff</th>\n",
       "      <th>Lunar module (LM)</th>\n",
       "      <th>LM mass (kg)</th>\n",
       "      <th>LM mass diff</th>\n",
       "      <th>Command module (CM)</th>\n",
       "      <th>CM mass (kg)</th>\n",
       "      <th>CM mass diff</th>\n",
       "      <th>Total weight (kg)</th>\n",
       "      <th>Total weight diff</th>\n",
       "    </tr>\n",
       "  </thead>\n",
       "  <tbody>\n",
       "    <tr>\n",
       "      <th>0</th>\n",
       "      <td>Apollo11</td>\n",
       "      <td>21.55424</td>\n",
       "      <td>0.00000</td>\n",
       "      <td>Eagle (LM-5)</td>\n",
       "      <td>15103</td>\n",
       "      <td>0.0</td>\n",
       "      <td>Columbia (CSM-107)</td>\n",
       "      <td>5560</td>\n",
       "      <td>0.0</td>\n",
       "      <td>20663</td>\n",
       "      <td>0.0</td>\n",
       "    </tr>\n",
       "    <tr>\n",
       "      <th>1</th>\n",
       "      <td>Apollo12</td>\n",
       "      <td>34.34238</td>\n",
       "      <td>12.78814</td>\n",
       "      <td>Intrepid (LM-6)</td>\n",
       "      <td>15235</td>\n",
       "      <td>132.0</td>\n",
       "      <td>Yankee Clipper (CM-108)</td>\n",
       "      <td>5609</td>\n",
       "      <td>49.0</td>\n",
       "      <td>20844</td>\n",
       "      <td>181.0</td>\n",
       "    </tr>\n",
       "    <tr>\n",
       "      <th>2</th>\n",
       "      <td>Apollo14</td>\n",
       "      <td>41.83363</td>\n",
       "      <td>7.49125</td>\n",
       "      <td>Antares (LM-8)</td>\n",
       "      <td>15264</td>\n",
       "      <td>29.0</td>\n",
       "      <td>Kitty Hawk (CM-110)</td>\n",
       "      <td>5758</td>\n",
       "      <td>149.0</td>\n",
       "      <td>21022</td>\n",
       "      <td>178.0</td>\n",
       "    </tr>\n",
       "    <tr>\n",
       "      <th>3</th>\n",
       "      <td>Apollo15</td>\n",
       "      <td>75.39910</td>\n",
       "      <td>33.56547</td>\n",
       "      <td>Falcon (LM-10)</td>\n",
       "      <td>16430</td>\n",
       "      <td>1166.0</td>\n",
       "      <td>Endeavor (CM-112)</td>\n",
       "      <td>5875</td>\n",
       "      <td>117.0</td>\n",
       "      <td>22305</td>\n",
       "      <td>1283.0</td>\n",
       "    </tr>\n",
       "    <tr>\n",
       "      <th>4</th>\n",
       "      <td>Apollo16</td>\n",
       "      <td>92.46262</td>\n",
       "      <td>17.06352</td>\n",
       "      <td>Orion (LM-11)</td>\n",
       "      <td>16445</td>\n",
       "      <td>15.0</td>\n",
       "      <td>Casper (CM-113)</td>\n",
       "      <td>5840</td>\n",
       "      <td>-35.0</td>\n",
       "      <td>22285</td>\n",
       "      <td>-20.0</td>\n",
       "    </tr>\n",
       "    <tr>\n",
       "      <th>5</th>\n",
       "      <td>Apollo17</td>\n",
       "      <td>109.44402</td>\n",
       "      <td>16.98140</td>\n",
       "      <td>Challenger (LM-12)</td>\n",
       "      <td>16456</td>\n",
       "      <td>11.0</td>\n",
       "      <td>America (CM-114)</td>\n",
       "      <td>5960</td>\n",
       "      <td>120.0</td>\n",
       "      <td>22416</td>\n",
       "      <td>131.0</td>\n",
       "    </tr>\n",
       "  </tbody>\n",
       "</table>\n",
       "</div>"
      ],
      "text/plain": [
       "    Mission  Sample weight (kg)  Weight diff   Lunar module (LM)  \\\n",
       "0  Apollo11            21.55424      0.00000        Eagle (LM-5)   \n",
       "1  Apollo12            34.34238     12.78814     Intrepid (LM-6)   \n",
       "2  Apollo14            41.83363      7.49125      Antares (LM-8)   \n",
       "3  Apollo15            75.39910     33.56547      Falcon (LM-10)   \n",
       "4  Apollo16            92.46262     17.06352       Orion (LM-11)   \n",
       "5  Apollo17           109.44402     16.98140  Challenger (LM-12)   \n",
       "\n",
       "   LM mass (kg)  LM mass diff      Command module (CM)  CM mass (kg)  \\\n",
       "0         15103           0.0       Columbia (CSM-107)          5560   \n",
       "1         15235         132.0  Yankee Clipper (CM-108)          5609   \n",
       "2         15264          29.0      Kitty Hawk (CM-110)          5758   \n",
       "3         16430        1166.0        Endeavor (CM-112)          5875   \n",
       "4         16445          15.0          Casper (CM-113)          5840   \n",
       "5         16456          11.0         America (CM-114)          5960   \n",
       "\n",
       "   CM mass diff  Total weight (kg)  Total weight diff  \n",
       "0           0.0              20663                0.0  \n",
       "1          49.0              20844              181.0  \n",
       "2         149.0              21022              178.0  \n",
       "3         117.0              22305             1283.0  \n",
       "4         -35.0              22285              -20.0  \n",
       "5         120.0              22416              131.0  "
      ]
     },
     "execution_count": 52,
     "metadata": {},
     "output_type": "execute_result"
    }
   ],
   "source": [
    "missions['Total weight (kg)'] = missions['LM mass (kg)'] + missions['CM mass (kg)']\n",
    "missions['Total weight diff'] = missions['LM mass diff'] + missions['CM mass diff']\n",
    "missions"
   ]
  },
  {
   "attachments": {},
   "cell_type": "markdown",
   "metadata": {},
   "source": [
    "Una carga es básicamente la cantidad total de peso que un cohete puede transportar a través de la atmósfera hacia el espacio. Por tanto, la probabilidad de que el número de carga sea más preciso que los pesos exactos de cada módulo es alta, ya que la decisión de la carga probablemente afectará a las demás decisiones de diseño.\n",
    "\n",
    "Se sabe que la carga del Saturno V era 43 500 kg y que los pesos de los módulos han variado de una misión a otra. Por tanto, para determinar las proporciones que permitirán realizar predicciones sobre las misiones Artemis, se puede usar lo siguiente:\n",
    "\n",
    "- Carga de Saturno V\n",
    "- Peso de las muestras de la misión\n",
    "- Peso de los módulos de la misión"
   ]
  },
  {
   "cell_type": "code",
   "execution_count": 53,
   "metadata": {},
   "outputs": [
    {
     "data": {
      "text/html": [
       "<div>\n",
       "<style scoped>\n",
       "    .dataframe tbody tr th:only-of-type {\n",
       "        vertical-align: middle;\n",
       "    }\n",
       "\n",
       "    .dataframe tbody tr th {\n",
       "        vertical-align: top;\n",
       "    }\n",
       "\n",
       "    .dataframe thead th {\n",
       "        text-align: right;\n",
       "    }\n",
       "</style>\n",
       "<table border=\"1\" class=\"dataframe\">\n",
       "  <thead>\n",
       "    <tr style=\"text-align: right;\">\n",
       "      <th></th>\n",
       "      <th>Mission</th>\n",
       "      <th>Sample weight (kg)</th>\n",
       "      <th>Weight diff</th>\n",
       "      <th>Lunar module (LM)</th>\n",
       "      <th>LM mass (kg)</th>\n",
       "      <th>LM mass diff</th>\n",
       "      <th>Command module (CM)</th>\n",
       "      <th>CM mass (kg)</th>\n",
       "      <th>CM mass diff</th>\n",
       "      <th>Total weight (kg)</th>\n",
       "      <th>Total weight diff</th>\n",
       "      <th>Crewed area : Payload</th>\n",
       "      <th>Sample : Crewed area</th>\n",
       "      <th>Sample : Payload</th>\n",
       "    </tr>\n",
       "  </thead>\n",
       "  <tbody>\n",
       "    <tr>\n",
       "      <th>0</th>\n",
       "      <td>Apollo11</td>\n",
       "      <td>21.55424</td>\n",
       "      <td>0.00000</td>\n",
       "      <td>Eagle (LM-5)</td>\n",
       "      <td>15103</td>\n",
       "      <td>0.0</td>\n",
       "      <td>Columbia (CSM-107)</td>\n",
       "      <td>5560</td>\n",
       "      <td>0.0</td>\n",
       "      <td>20663</td>\n",
       "      <td>0.0</td>\n",
       "      <td>0.475011</td>\n",
       "      <td>0.001043</td>\n",
       "      <td>0.000495</td>\n",
       "    </tr>\n",
       "    <tr>\n",
       "      <th>1</th>\n",
       "      <td>Apollo12</td>\n",
       "      <td>34.34238</td>\n",
       "      <td>12.78814</td>\n",
       "      <td>Intrepid (LM-6)</td>\n",
       "      <td>15235</td>\n",
       "      <td>132.0</td>\n",
       "      <td>Yankee Clipper (CM-108)</td>\n",
       "      <td>5609</td>\n",
       "      <td>49.0</td>\n",
       "      <td>20844</td>\n",
       "      <td>181.0</td>\n",
       "      <td>0.479172</td>\n",
       "      <td>0.001648</td>\n",
       "      <td>0.000789</td>\n",
       "    </tr>\n",
       "    <tr>\n",
       "      <th>2</th>\n",
       "      <td>Apollo14</td>\n",
       "      <td>41.83363</td>\n",
       "      <td>7.49125</td>\n",
       "      <td>Antares (LM-8)</td>\n",
       "      <td>15264</td>\n",
       "      <td>29.0</td>\n",
       "      <td>Kitty Hawk (CM-110)</td>\n",
       "      <td>5758</td>\n",
       "      <td>149.0</td>\n",
       "      <td>21022</td>\n",
       "      <td>178.0</td>\n",
       "      <td>0.483264</td>\n",
       "      <td>0.001990</td>\n",
       "      <td>0.000962</td>\n",
       "    </tr>\n",
       "    <tr>\n",
       "      <th>3</th>\n",
       "      <td>Apollo15</td>\n",
       "      <td>75.39910</td>\n",
       "      <td>33.56547</td>\n",
       "      <td>Falcon (LM-10)</td>\n",
       "      <td>16430</td>\n",
       "      <td>1166.0</td>\n",
       "      <td>Endeavor (CM-112)</td>\n",
       "      <td>5875</td>\n",
       "      <td>117.0</td>\n",
       "      <td>22305</td>\n",
       "      <td>1283.0</td>\n",
       "      <td>0.512759</td>\n",
       "      <td>0.003380</td>\n",
       "      <td>0.001733</td>\n",
       "    </tr>\n",
       "    <tr>\n",
       "      <th>4</th>\n",
       "      <td>Apollo16</td>\n",
       "      <td>92.46262</td>\n",
       "      <td>17.06352</td>\n",
       "      <td>Orion (LM-11)</td>\n",
       "      <td>16445</td>\n",
       "      <td>15.0</td>\n",
       "      <td>Casper (CM-113)</td>\n",
       "      <td>5840</td>\n",
       "      <td>-35.0</td>\n",
       "      <td>22285</td>\n",
       "      <td>-20.0</td>\n",
       "      <td>0.512299</td>\n",
       "      <td>0.004149</td>\n",
       "      <td>0.002126</td>\n",
       "    </tr>\n",
       "    <tr>\n",
       "      <th>5</th>\n",
       "      <td>Apollo17</td>\n",
       "      <td>109.44402</td>\n",
       "      <td>16.98140</td>\n",
       "      <td>Challenger (LM-12)</td>\n",
       "      <td>16456</td>\n",
       "      <td>11.0</td>\n",
       "      <td>America (CM-114)</td>\n",
       "      <td>5960</td>\n",
       "      <td>120.0</td>\n",
       "      <td>22416</td>\n",
       "      <td>131.0</td>\n",
       "      <td>0.515310</td>\n",
       "      <td>0.004882</td>\n",
       "      <td>0.002516</td>\n",
       "    </tr>\n",
       "  </tbody>\n",
       "</table>\n",
       "</div>"
      ],
      "text/plain": [
       "    Mission  Sample weight (kg)  Weight diff   Lunar module (LM)  \\\n",
       "0  Apollo11            21.55424      0.00000        Eagle (LM-5)   \n",
       "1  Apollo12            34.34238     12.78814     Intrepid (LM-6)   \n",
       "2  Apollo14            41.83363      7.49125      Antares (LM-8)   \n",
       "3  Apollo15            75.39910     33.56547      Falcon (LM-10)   \n",
       "4  Apollo16            92.46262     17.06352       Orion (LM-11)   \n",
       "5  Apollo17           109.44402     16.98140  Challenger (LM-12)   \n",
       "\n",
       "   LM mass (kg)  LM mass diff      Command module (CM)  CM mass (kg)  \\\n",
       "0         15103           0.0       Columbia (CSM-107)          5560   \n",
       "1         15235         132.0  Yankee Clipper (CM-108)          5609   \n",
       "2         15264          29.0      Kitty Hawk (CM-110)          5758   \n",
       "3         16430        1166.0        Endeavor (CM-112)          5875   \n",
       "4         16445          15.0          Casper (CM-113)          5840   \n",
       "5         16456          11.0         America (CM-114)          5960   \n",
       "\n",
       "   CM mass diff  Total weight (kg)  Total weight diff  Crewed area : Payload  \\\n",
       "0           0.0              20663                0.0               0.475011   \n",
       "1          49.0              20844              181.0               0.479172   \n",
       "2         149.0              21022              178.0               0.483264   \n",
       "3         117.0              22305             1283.0               0.512759   \n",
       "4         -35.0              22285              -20.0               0.512299   \n",
       "5         120.0              22416              131.0               0.515310   \n",
       "\n",
       "   Sample : Crewed area  Sample : Payload  \n",
       "0              0.001043          0.000495  \n",
       "1              0.001648          0.000789  \n",
       "2              0.001990          0.000962  \n",
       "3              0.003380          0.001733  \n",
       "4              0.004149          0.002126  \n",
       "5              0.004882          0.002516  "
      ]
     },
     "execution_count": 53,
     "metadata": {},
     "output_type": "execute_result"
    }
   ],
   "source": [
    "# Sample-to-weight ratio\n",
    "saturnVPayload = 43500\n",
    "missions['Crewed area : Payload'] = missions['Total weight (kg)'] / saturnVPayload\n",
    "missions['Sample : Crewed area'] = missions['Sample weight (kg)'] / missions['Total weight (kg)']\n",
    "missions['Sample : Payload'] = missions['Sample weight (kg)'] / saturnVPayload\n",
    "missions"
   ]
  },
  {
   "attachments": {},
   "cell_type": "markdown",
   "metadata": {},
   "source": [
    "Guardado de las proporciones\n",
    "\n",
    "Después, se puede usar la función mean() para tomar el promedio de todas esas proporciones entre todas las misiones."
   ]
  },
  {
   "cell_type": "code",
   "execution_count": 54,
   "metadata": {},
   "outputs": [
    {
     "name": "stdout",
     "output_type": "stream",
     "text": [
      "0.4963026819923371\n",
      "0.002848764392685611\n",
      "0.0014369195019157087\n"
     ]
    }
   ],
   "source": [
    "crewedArea_payload_ratio = missions['Crewed area : Payload'].mean()\n",
    "sample_crewedArea_ratio = missions['Sample : Crewed area'].mean()\n",
    "sample_payload_ratio = missions['Sample : Payload'].mean()\n",
    "print(crewedArea_payload_ratio)\n",
    "print(sample_crewedArea_ratio)\n",
    "print(sample_payload_ratio)"
   ]
  },
  {
   "attachments": {},
   "cell_type": "markdown",
   "metadata": {},
   "source": [
    "Creación de un elemento dataframe para la misión Artemis"
   ]
  },
  {
   "cell_type": "code",
   "execution_count": 55,
   "metadata": {},
   "outputs": [
    {
     "data": {
      "text/html": [
       "<div>\n",
       "<style scoped>\n",
       "    .dataframe tbody tr th:only-of-type {\n",
       "        vertical-align: middle;\n",
       "    }\n",
       "\n",
       "    .dataframe tbody tr th {\n",
       "        vertical-align: top;\n",
       "    }\n",
       "\n",
       "    .dataframe thead th {\n",
       "        text-align: right;\n",
       "    }\n",
       "</style>\n",
       "<table border=\"1\" class=\"dataframe\">\n",
       "  <thead>\n",
       "    <tr style=\"text-align: right;\">\n",
       "      <th></th>\n",
       "      <th>Mission</th>\n",
       "      <th>Total weight (kg)</th>\n",
       "      <th>Payload (kg)</th>\n",
       "    </tr>\n",
       "  </thead>\n",
       "  <tbody>\n",
       "    <tr>\n",
       "      <th>0</th>\n",
       "      <td>artemis1</td>\n",
       "      <td>26520</td>\n",
       "      <td>26988</td>\n",
       "    </tr>\n",
       "    <tr>\n",
       "      <th>1</th>\n",
       "      <td>artemis1b</td>\n",
       "      <td>26520</td>\n",
       "      <td>37965</td>\n",
       "    </tr>\n",
       "    <tr>\n",
       "      <th>2</th>\n",
       "      <td>artemis2</td>\n",
       "      <td>26520</td>\n",
       "      <td>42955</td>\n",
       "    </tr>\n",
       "  </tbody>\n",
       "</table>\n",
       "</div>"
      ],
      "text/plain": [
       "     Mission  Total weight (kg)  Payload (kg)\n",
       "0   artemis1              26520         26988\n",
       "1  artemis1b              26520         37965\n",
       "2   artemis2              26520         42955"
      ]
     },
     "execution_count": 55,
     "metadata": {},
     "output_type": "execute_result"
    }
   ],
   "source": [
    "artemis_crewedArea = 26520\n",
    "artemis_mission = pd.DataFrame({'Mission':['artemis1','artemis1b','artemis2'],\n",
    "                                 'Total weight (kg)':[artemis_crewedArea,artemis_crewedArea,artemis_crewedArea],\n",
    "                                 'Payload (kg)':[26988, 37965, 42955]})\n",
    "artemis_mission"
   ]
  },
  {
   "attachments": {},
   "cell_type": "markdown",
   "metadata": {},
   "source": [
    "Y se puede calcular el peso de las muestras en función de las proporciones determinadas a partir de las misiones Apolo:"
   ]
  },
  {
   "cell_type": "code",
   "execution_count": 56,
   "metadata": {},
   "outputs": [
    {
     "data": {
      "text/html": [
       "<div>\n",
       "<style scoped>\n",
       "    .dataframe tbody tr th:only-of-type {\n",
       "        vertical-align: middle;\n",
       "    }\n",
       "\n",
       "    .dataframe tbody tr th {\n",
       "        vertical-align: top;\n",
       "    }\n",
       "\n",
       "    .dataframe thead th {\n",
       "        text-align: right;\n",
       "    }\n",
       "</style>\n",
       "<table border=\"1\" class=\"dataframe\">\n",
       "  <thead>\n",
       "    <tr style=\"text-align: right;\">\n",
       "      <th></th>\n",
       "      <th>Mission</th>\n",
       "      <th>Total weight (kg)</th>\n",
       "      <th>Payload (kg)</th>\n",
       "      <th>Sample weight from total (kg)</th>\n",
       "      <th>Sample weight from payload (kg)</th>\n",
       "    </tr>\n",
       "  </thead>\n",
       "  <tbody>\n",
       "    <tr>\n",
       "      <th>0</th>\n",
       "      <td>artemis1</td>\n",
       "      <td>26520</td>\n",
       "      <td>26988</td>\n",
       "      <td>75.549232</td>\n",
       "      <td>38.779584</td>\n",
       "    </tr>\n",
       "    <tr>\n",
       "      <th>1</th>\n",
       "      <td>artemis1b</td>\n",
       "      <td>26520</td>\n",
       "      <td>37965</td>\n",
       "      <td>75.549232</td>\n",
       "      <td>54.552649</td>\n",
       "    </tr>\n",
       "    <tr>\n",
       "      <th>2</th>\n",
       "      <td>artemis2</td>\n",
       "      <td>26520</td>\n",
       "      <td>42955</td>\n",
       "      <td>75.549232</td>\n",
       "      <td>61.722877</td>\n",
       "    </tr>\n",
       "  </tbody>\n",
       "</table>\n",
       "</div>"
      ],
      "text/plain": [
       "     Mission  Total weight (kg)  Payload (kg)  Sample weight from total (kg)  \\\n",
       "0   artemis1              26520         26988                      75.549232   \n",
       "1  artemis1b              26520         37965                      75.549232   \n",
       "2   artemis2              26520         42955                      75.549232   \n",
       "\n",
       "   Sample weight from payload (kg)  \n",
       "0                        38.779584  \n",
       "1                        54.552649  \n",
       "2                        61.722877  "
      ]
     },
     "execution_count": 56,
     "metadata": {},
     "output_type": "execute_result"
    }
   ],
   "source": [
    "artemis_mission['Sample weight from total (kg)'] = artemis_mission['Total weight (kg)'] * sample_crewedArea_ratio\n",
    "artemis_mission['Sample weight from payload (kg)'] = artemis_mission['Payload (kg)'] * sample_payload_ratio\n",
    "artemis_mission"
   ]
  },
  {
   "cell_type": "code",
   "execution_count": 57,
   "metadata": {},
   "outputs": [
    {
     "data": {
      "text/html": [
       "<div>\n",
       "<style scoped>\n",
       "    .dataframe tbody tr th:only-of-type {\n",
       "        vertical-align: middle;\n",
       "    }\n",
       "\n",
       "    .dataframe tbody tr th {\n",
       "        vertical-align: top;\n",
       "    }\n",
       "\n",
       "    .dataframe thead th {\n",
       "        text-align: right;\n",
       "    }\n",
       "</style>\n",
       "<table border=\"1\" class=\"dataframe\">\n",
       "  <thead>\n",
       "    <tr style=\"text-align: right;\">\n",
       "      <th></th>\n",
       "      <th>Mission</th>\n",
       "      <th>Total weight (kg)</th>\n",
       "      <th>Payload (kg)</th>\n",
       "      <th>Sample weight from total (kg)</th>\n",
       "      <th>Sample weight from payload (kg)</th>\n",
       "      <th>Estimated sample weight (kg)</th>\n",
       "    </tr>\n",
       "  </thead>\n",
       "  <tbody>\n",
       "    <tr>\n",
       "      <th>0</th>\n",
       "      <td>artemis1</td>\n",
       "      <td>26520</td>\n",
       "      <td>26988</td>\n",
       "      <td>75.549232</td>\n",
       "      <td>38.779584</td>\n",
       "      <td>57.164408</td>\n",
       "    </tr>\n",
       "    <tr>\n",
       "      <th>1</th>\n",
       "      <td>artemis1b</td>\n",
       "      <td>26520</td>\n",
       "      <td>37965</td>\n",
       "      <td>75.549232</td>\n",
       "      <td>54.552649</td>\n",
       "      <td>65.050940</td>\n",
       "    </tr>\n",
       "    <tr>\n",
       "      <th>2</th>\n",
       "      <td>artemis2</td>\n",
       "      <td>26520</td>\n",
       "      <td>42955</td>\n",
       "      <td>75.549232</td>\n",
       "      <td>61.722877</td>\n",
       "      <td>68.636054</td>\n",
       "    </tr>\n",
       "  </tbody>\n",
       "</table>\n",
       "</div>"
      ],
      "text/plain": [
       "     Mission  Total weight (kg)  Payload (kg)  Sample weight from total (kg)  \\\n",
       "0   artemis1              26520         26988                      75.549232   \n",
       "1  artemis1b              26520         37965                      75.549232   \n",
       "2   artemis2              26520         42955                      75.549232   \n",
       "\n",
       "   Sample weight from payload (kg)  Estimated sample weight (kg)  \n",
       "0                        38.779584                     57.164408  \n",
       "1                        54.552649                     65.050940  \n",
       "2                        61.722877                     68.636054  "
      ]
     },
     "execution_count": 57,
     "metadata": {},
     "output_type": "execute_result"
    }
   ],
   "source": [
    "artemis_mission['Estimated sample weight (kg)'] = (artemis_mission['Sample weight from payload (kg)'] + artemis_mission['Sample weight from total (kg)'])/2\n",
    "artemis_mission"
   ]
  },
  {
   "attachments": {},
   "cell_type": "markdown",
   "metadata": {},
   "source": [
    "Por último, se puede obtener el promedio de las dos predicciones:"
   ]
  },
  {
   "cell_type": "code",
   "execution_count": 58,
   "metadata": {},
   "outputs": [
    {
     "data": {
      "text/html": [
       "<div>\n",
       "<style scoped>\n",
       "    .dataframe tbody tr th:only-of-type {\n",
       "        vertical-align: middle;\n",
       "    }\n",
       "\n",
       "    .dataframe tbody tr th {\n",
       "        vertical-align: top;\n",
       "    }\n",
       "\n",
       "    .dataframe thead th {\n",
       "        text-align: right;\n",
       "    }\n",
       "</style>\n",
       "<table border=\"1\" class=\"dataframe\">\n",
       "  <thead>\n",
       "    <tr style=\"text-align: right;\">\n",
       "      <th></th>\n",
       "      <th>Mission</th>\n",
       "      <th>Total weight (kg)</th>\n",
       "      <th>Payload (kg)</th>\n",
       "      <th>Sample weight from total (kg)</th>\n",
       "      <th>Sample weight from payload (kg)</th>\n",
       "      <th>Estimated sample weight (kg)</th>\n",
       "    </tr>\n",
       "  </thead>\n",
       "  <tbody>\n",
       "    <tr>\n",
       "      <th>0</th>\n",
       "      <td>artemis1</td>\n",
       "      <td>26520</td>\n",
       "      <td>26988</td>\n",
       "      <td>75.549232</td>\n",
       "      <td>38.779584</td>\n",
       "      <td>57.164408</td>\n",
       "    </tr>\n",
       "    <tr>\n",
       "      <th>1</th>\n",
       "      <td>artemis1b</td>\n",
       "      <td>26520</td>\n",
       "      <td>37965</td>\n",
       "      <td>75.549232</td>\n",
       "      <td>54.552649</td>\n",
       "      <td>65.050940</td>\n",
       "    </tr>\n",
       "    <tr>\n",
       "      <th>2</th>\n",
       "      <td>artemis2</td>\n",
       "      <td>26520</td>\n",
       "      <td>42955</td>\n",
       "      <td>75.549232</td>\n",
       "      <td>61.722877</td>\n",
       "      <td>68.636054</td>\n",
       "    </tr>\n",
       "  </tbody>\n",
       "</table>\n",
       "</div>"
      ],
      "text/plain": [
       "     Mission  Total weight (kg)  Payload (kg)  Sample weight from total (kg)  \\\n",
       "0   artemis1              26520         26988                      75.549232   \n",
       "1  artemis1b              26520         37965                      75.549232   \n",
       "2   artemis2              26520         42955                      75.549232   \n",
       "\n",
       "   Sample weight from payload (kg)  Estimated sample weight (kg)  \n",
       "0                        38.779584                     57.164408  \n",
       "1                        54.552649                     65.050940  \n",
       "2                        61.722877                     68.636054  "
      ]
     },
     "execution_count": 58,
     "metadata": {},
     "output_type": "execute_result"
    }
   ],
   "source": [
    "artemis_mission['Estimated sample weight (kg)'] = (artemis_mission['Sample weight from payload (kg)'] + artemis_mission['Sample weight from total (kg)'])/2\n",
    "artemis_mission"
   ]
  },
  {
   "attachments": {},
   "cell_type": "markdown",
   "metadata": {},
   "source": [
    "Se puede determinar cuánto queda de cada muestra obtenida por las misiones Apolo, al multiplicar el peso de la muestra que se obtuvo originalmente por el porcentaje de la muestra original restante"
   ]
  },
  {
   "cell_type": "code",
   "execution_count": 59,
   "metadata": {},
   "outputs": [
    {
     "data": {
      "text/html": [
       "<div>\n",
       "<style scoped>\n",
       "    .dataframe tbody tr th:only-of-type {\n",
       "        vertical-align: middle;\n",
       "    }\n",
       "\n",
       "    .dataframe tbody tr th {\n",
       "        vertical-align: top;\n",
       "    }\n",
       "\n",
       "    .dataframe thead th {\n",
       "        text-align: right;\n",
       "    }\n",
       "</style>\n",
       "<table border=\"1\" class=\"dataframe\">\n",
       "  <thead>\n",
       "    <tr style=\"text-align: right;\">\n",
       "      <th></th>\n",
       "      <th>ID</th>\n",
       "      <th>Mission</th>\n",
       "      <th>Type</th>\n",
       "      <th>Subtype</th>\n",
       "      <th>Weight (kg)</th>\n",
       "      <th>Pristine (%)</th>\n",
       "      <th>Remaining (kg)</th>\n",
       "    </tr>\n",
       "  </thead>\n",
       "  <tbody>\n",
       "    <tr>\n",
       "      <th>0</th>\n",
       "      <td>10001</td>\n",
       "      <td>Apollo11</td>\n",
       "      <td>Soil</td>\n",
       "      <td>Unsieved</td>\n",
       "      <td>0.1258</td>\n",
       "      <td>88.36</td>\n",
       "      <td>0.111157</td>\n",
       "    </tr>\n",
       "    <tr>\n",
       "      <th>1</th>\n",
       "      <td>10002</td>\n",
       "      <td>Apollo11</td>\n",
       "      <td>Soil</td>\n",
       "      <td>Unsieved</td>\n",
       "      <td>5.6290</td>\n",
       "      <td>93.73</td>\n",
       "      <td>5.276062</td>\n",
       "    </tr>\n",
       "    <tr>\n",
       "      <th>2</th>\n",
       "      <td>10003</td>\n",
       "      <td>Apollo11</td>\n",
       "      <td>Basalt</td>\n",
       "      <td>Ilmenite</td>\n",
       "      <td>0.2130</td>\n",
       "      <td>65.56</td>\n",
       "      <td>0.139643</td>\n",
       "    </tr>\n",
       "    <tr>\n",
       "      <th>3</th>\n",
       "      <td>10004</td>\n",
       "      <td>Apollo11</td>\n",
       "      <td>Core</td>\n",
       "      <td>Unsieved</td>\n",
       "      <td>0.0448</td>\n",
       "      <td>71.76</td>\n",
       "      <td>0.032148</td>\n",
       "    </tr>\n",
       "    <tr>\n",
       "      <th>4</th>\n",
       "      <td>10005</td>\n",
       "      <td>Apollo11</td>\n",
       "      <td>Core</td>\n",
       "      <td>Unsieved</td>\n",
       "      <td>0.0534</td>\n",
       "      <td>40.31</td>\n",
       "      <td>0.021526</td>\n",
       "    </tr>\n",
       "  </tbody>\n",
       "</table>\n",
       "</div>"
      ],
      "text/plain": [
       "      ID   Mission    Type   Subtype  Weight (kg)  Pristine (%)  \\\n",
       "0  10001  Apollo11    Soil  Unsieved       0.1258         88.36   \n",
       "1  10002  Apollo11    Soil  Unsieved       5.6290         93.73   \n",
       "2  10003  Apollo11  Basalt  Ilmenite       0.2130         65.56   \n",
       "3  10004  Apollo11    Core  Unsieved       0.0448         71.76   \n",
       "4  10005  Apollo11    Core  Unsieved       0.0534         40.31   \n",
       "\n",
       "   Remaining (kg)  \n",
       "0        0.111157  \n",
       "1        5.276062  \n",
       "2        0.139643  \n",
       "3        0.032148  \n",
       "4        0.021526  "
      ]
     },
     "execution_count": 59,
     "metadata": {},
     "output_type": "execute_result"
    }
   ],
   "source": [
    "rock_samples['Remaining (kg)'] = rock_samples['Weight (kg)'] * (rock_samples['Pristine (%)'] * .01)\n",
    "rock_samples.head()"
   ]
  },
  {
   "cell_type": "code",
   "execution_count": 60,
   "metadata": {},
   "outputs": [
    {
     "data": {
      "text/html": [
       "<div>\n",
       "<style scoped>\n",
       "    .dataframe tbody tr th:only-of-type {\n",
       "        vertical-align: middle;\n",
       "    }\n",
       "\n",
       "    .dataframe tbody tr th {\n",
       "        vertical-align: top;\n",
       "    }\n",
       "\n",
       "    .dataframe thead th {\n",
       "        text-align: right;\n",
       "    }\n",
       "</style>\n",
       "<table border=\"1\" class=\"dataframe\">\n",
       "  <thead>\n",
       "    <tr style=\"text-align: right;\">\n",
       "      <th></th>\n",
       "      <th>ID</th>\n",
       "      <th>Weight (kg)</th>\n",
       "      <th>Pristine (%)</th>\n",
       "      <th>Remaining (kg)</th>\n",
       "    </tr>\n",
       "  </thead>\n",
       "  <tbody>\n",
       "    <tr>\n",
       "      <th>count</th>\n",
       "      <td>2229.000000</td>\n",
       "      <td>2229.000000</td>\n",
       "      <td>2229.000000</td>\n",
       "      <td>2229.000000</td>\n",
       "    </tr>\n",
       "    <tr>\n",
       "      <th>mean</th>\n",
       "      <td>52058.432032</td>\n",
       "      <td>0.168253</td>\n",
       "      <td>84.512764</td>\n",
       "      <td>0.138103</td>\n",
       "    </tr>\n",
       "    <tr>\n",
       "      <th>std</th>\n",
       "      <td>26207.651471</td>\n",
       "      <td>0.637286</td>\n",
       "      <td>22.057299</td>\n",
       "      <td>0.525954</td>\n",
       "    </tr>\n",
       "    <tr>\n",
       "      <th>min</th>\n",
       "      <td>10001.000000</td>\n",
       "      <td>0.000000</td>\n",
       "      <td>0.000000</td>\n",
       "      <td>0.000000</td>\n",
       "    </tr>\n",
       "    <tr>\n",
       "      <th>25%</th>\n",
       "      <td>15437.000000</td>\n",
       "      <td>0.003000</td>\n",
       "      <td>80.010000</td>\n",
       "      <td>0.002432</td>\n",
       "    </tr>\n",
       "    <tr>\n",
       "      <th>50%</th>\n",
       "      <td>65527.000000</td>\n",
       "      <td>0.010200</td>\n",
       "      <td>92.300000</td>\n",
       "      <td>0.008530</td>\n",
       "    </tr>\n",
       "    <tr>\n",
       "      <th>75%</th>\n",
       "      <td>72142.000000</td>\n",
       "      <td>0.093490</td>\n",
       "      <td>98.140000</td>\n",
       "      <td>0.078240</td>\n",
       "    </tr>\n",
       "    <tr>\n",
       "      <th>max</th>\n",
       "      <td>79537.000000</td>\n",
       "      <td>11.729000</td>\n",
       "      <td>180.000000</td>\n",
       "      <td>11.169527</td>\n",
       "    </tr>\n",
       "  </tbody>\n",
       "</table>\n",
       "</div>"
      ],
      "text/plain": [
       "                 ID  Weight (kg)  Pristine (%)  Remaining (kg)\n",
       "count   2229.000000  2229.000000   2229.000000     2229.000000\n",
       "mean   52058.432032     0.168253     84.512764        0.138103\n",
       "std    26207.651471     0.637286     22.057299        0.525954\n",
       "min    10001.000000     0.000000      0.000000        0.000000\n",
       "25%    15437.000000     0.003000     80.010000        0.002432\n",
       "50%    65527.000000     0.010200     92.300000        0.008530\n",
       "75%    72142.000000     0.093490     98.140000        0.078240\n",
       "max    79537.000000    11.729000    180.000000       11.169527"
      ]
     },
     "execution_count": 60,
     "metadata": {},
     "output_type": "execute_result"
    }
   ],
   "source": [
    "rock_samples.describe()"
   ]
  },
  {
   "attachments": {},
   "cell_type": "markdown",
   "metadata": {},
   "source": [
    "Esta información ayuda a ver que, de media, cada muestra pesa aproximadamente 0,16 kg y queda aproximadamente un 84 % de la cantidad original. Este conocimiento se puede usar para determinar las muestras con pocas existencias, lo que significa que los investigadores las han utilizado mucho."
   ]
  },
  {
   "cell_type": "code",
   "execution_count": 61,
   "metadata": {},
   "outputs": [
    {
     "data": {
      "text/html": [
       "<div>\n",
       "<style scoped>\n",
       "    .dataframe tbody tr th:only-of-type {\n",
       "        vertical-align: middle;\n",
       "    }\n",
       "\n",
       "    .dataframe tbody tr th {\n",
       "        vertical-align: top;\n",
       "    }\n",
       "\n",
       "    .dataframe thead th {\n",
       "        text-align: right;\n",
       "    }\n",
       "</style>\n",
       "<table border=\"1\" class=\"dataframe\">\n",
       "  <thead>\n",
       "    <tr style=\"text-align: right;\">\n",
       "      <th></th>\n",
       "      <th>ID</th>\n",
       "      <th>Mission</th>\n",
       "      <th>Type</th>\n",
       "      <th>Subtype</th>\n",
       "      <th>Weight (kg)</th>\n",
       "      <th>Pristine (%)</th>\n",
       "      <th>Remaining (kg)</th>\n",
       "    </tr>\n",
       "  </thead>\n",
       "  <tbody>\n",
       "    <tr>\n",
       "      <th>11</th>\n",
       "      <td>10017</td>\n",
       "      <td>Apollo11</td>\n",
       "      <td>Basalt</td>\n",
       "      <td>Ilmenite</td>\n",
       "      <td>0.973</td>\n",
       "      <td>43.71</td>\n",
       "      <td>0.425298</td>\n",
       "    </tr>\n",
       "    <tr>\n",
       "      <th>14</th>\n",
       "      <td>10020</td>\n",
       "      <td>Apollo11</td>\n",
       "      <td>Basalt</td>\n",
       "      <td>Ilmenite</td>\n",
       "      <td>0.425</td>\n",
       "      <td>27.88</td>\n",
       "      <td>0.118490</td>\n",
       "    </tr>\n",
       "    <tr>\n",
       "      <th>15</th>\n",
       "      <td>10021</td>\n",
       "      <td>Apollo11</td>\n",
       "      <td>Breccia</td>\n",
       "      <td>Regolith</td>\n",
       "      <td>0.250</td>\n",
       "      <td>30.21</td>\n",
       "      <td>0.075525</td>\n",
       "    </tr>\n",
       "    <tr>\n",
       "      <th>29</th>\n",
       "      <td>10045</td>\n",
       "      <td>Apollo11</td>\n",
       "      <td>Basalt</td>\n",
       "      <td>Olivine</td>\n",
       "      <td>0.185</td>\n",
       "      <td>12.13</td>\n",
       "      <td>0.022441</td>\n",
       "    </tr>\n",
       "    <tr>\n",
       "      <th>37</th>\n",
       "      <td>10057</td>\n",
       "      <td>Apollo11</td>\n",
       "      <td>Basalt</td>\n",
       "      <td>Ilmenite</td>\n",
       "      <td>0.919</td>\n",
       "      <td>35.15</td>\n",
       "      <td>0.323028</td>\n",
       "    </tr>\n",
       "  </tbody>\n",
       "</table>\n",
       "</div>"
      ],
      "text/plain": [
       "       ID   Mission     Type   Subtype  Weight (kg)  Pristine (%)  \\\n",
       "11  10017  Apollo11   Basalt  Ilmenite        0.973         43.71   \n",
       "14  10020  Apollo11   Basalt  Ilmenite        0.425         27.88   \n",
       "15  10021  Apollo11  Breccia  Regolith        0.250         30.21   \n",
       "29  10045  Apollo11   Basalt   Olivine        0.185         12.13   \n",
       "37  10057  Apollo11   Basalt  Ilmenite        0.919         35.15   \n",
       "\n",
       "    Remaining (kg)  \n",
       "11        0.425298  \n",
       "14        0.118490  \n",
       "15        0.075525  \n",
       "29        0.022441  \n",
       "37        0.323028  "
      ]
     },
     "execution_count": 61,
     "metadata": {},
     "output_type": "execute_result"
    }
   ],
   "source": [
    "low_samples = rock_samples.loc[(rock_samples['Weight (kg)'] >= .16) & (rock_samples['Pristine (%)'] <= 50)]\n",
    "low_samples.head()"
   ]
  },
  {
   "cell_type": "code",
   "execution_count": 62,
   "metadata": {},
   "outputs": [
    {
     "name": "stdout",
     "output_type": "stream",
     "text": [
      "<class 'pandas.core.frame.DataFrame'>\n",
      "Int64Index: 27 entries, 11 to 2183\n",
      "Data columns (total 7 columns):\n",
      " #   Column          Non-Null Count  Dtype  \n",
      "---  ------          --------------  -----  \n",
      " 0   ID              27 non-null     int64  \n",
      " 1   Mission         27 non-null     object \n",
      " 2   Type            27 non-null     object \n",
      " 3   Subtype         27 non-null     object \n",
      " 4   Weight (kg)     27 non-null     float64\n",
      " 5   Pristine (%)    27 non-null     float64\n",
      " 6   Remaining (kg)  27 non-null     float64\n",
      "dtypes: float64(3), int64(1), object(3)\n",
      "memory usage: 1.7+ KB\n"
     ]
    }
   ],
   "source": [
    "low_samples.info()"
   ]
  },
  {
   "attachments": {},
   "cell_type": "markdown",
   "metadata": {},
   "source": [
    "27 muestras parecen una cantidad pequeña en la que basar una recomendación. Probablemente encontrará otras muestras necesarias para proseguir con la investigación aquí en la Tierra. A fin de descubrirlas, puede usar la función unique() para ver cuántos tipos únicos hay en los elementos dataframe low_samples y rock_samples."
   ]
  },
  {
   "cell_type": "code",
   "execution_count": 63,
   "metadata": {},
   "outputs": [
    {
     "data": {
      "text/plain": [
       "array(['Basalt', 'Breccia', 'Soil', 'Core'], dtype=object)"
      ]
     },
     "execution_count": 63,
     "metadata": {},
     "output_type": "execute_result"
    }
   ],
   "source": [
    "low_samples.Type.unique()"
   ]
  },
  {
   "cell_type": "code",
   "execution_count": 64,
   "metadata": {},
   "outputs": [
    {
     "data": {
      "text/plain": [
       "array(['Soil', 'Basalt', 'Core', 'Breccia', 'Special', 'Crustal'],\n",
       "      dtype=object)"
      ]
     },
     "execution_count": 64,
     "metadata": {},
     "output_type": "execute_result"
    }
   ],
   "source": [
    "rock_samples.Type.unique()"
   ]
  },
  {
   "attachments": {},
   "cell_type": "markdown",
   "metadata": {},
   "source": [
    "Se puede ver que, aunque entre todas las muestras se han obtenido seis tipos únicos, aquellas de las que hay menos cantidad solo se corresponden a cuatro tipos únicos. Pero estos datos no lo indican todo sobre las muestras en las que se podría centrar. Por ejemplo, en el DataFrame low_samples, ¿de cuántos de cada uno de los tipos se considera que la cantidad es baja?"
   ]
  },
  {
   "cell_type": "code",
   "execution_count": 65,
   "metadata": {},
   "outputs": [
    {
     "data": {
      "text/plain": [
       "Type\n",
       "Basalt     14\n",
       "Breccia     8\n",
       "Core        1\n",
       "Soil        4\n",
       "Name: Weight (kg), dtype: int64"
      ]
     },
     "execution_count": 65,
     "metadata": {},
     "output_type": "execute_result"
    }
   ],
   "source": [
    "low_samples.groupby('Type')['Weight (kg)'].count()"
   ]
  },
  {
   "attachments": {},
   "cell_type": "markdown",
   "metadata": {},
   "source": [
    "Observe que hay más rocas de tipo basalto y brecha con un nivel bajo de muestras que de núcleo y tierra. Además, debido a la elevada probabilidad de que en cada misión haya que obtener muestras de núcleo y tierra, se puede centrar en los tipos de basalto y brecha para las que es necesario recoger:"
   ]
  },
  {
   "cell_type": "code",
   "execution_count": 66,
   "metadata": {},
   "outputs": [
    {
     "name": "stdout",
     "output_type": "stream",
     "text": [
      "<class 'pandas.core.frame.DataFrame'>\n",
      "Int64Index: 22 entries, 11 to 2183\n",
      "Data columns (total 7 columns):\n",
      " #   Column          Non-Null Count  Dtype  \n",
      "---  ------          --------------  -----  \n",
      " 0   ID              22 non-null     int64  \n",
      " 1   Mission         22 non-null     object \n",
      " 2   Type            22 non-null     object \n",
      " 3   Subtype         22 non-null     object \n",
      " 4   Weight (kg)     22 non-null     float64\n",
      " 5   Pristine (%)    22 non-null     float64\n",
      " 6   Remaining (kg)  22 non-null     float64\n",
      "dtypes: float64(3), int64(1), object(3)\n",
      "memory usage: 1.4+ KB\n"
     ]
    }
   ],
   "source": [
    "needed_samples = low_samples[low_samples['Type'].isin(['Basalt', 'Breccia'])]\n",
    "needed_samples.info()"
   ]
  },
  {
   "attachments": {},
   "cell_type": "markdown",
   "metadata": {},
   "source": [
    "Vamos a dar un paso atrás y comparar las muestras que se están agotando con todas las muestras recopiladas en las misiones del programa Apolo. Se puede comparar el peso total del elemento dataframe needed_samples con el de rock_samples."
   ]
  },
  {
   "cell_type": "code",
   "execution_count": 67,
   "metadata": {},
   "outputs": [
    {
     "data": {
      "text/plain": [
       "Type\n",
       "Basalt     17.4234\n",
       "Breccia    10.1185\n",
       "Name: Weight (kg), dtype: float64"
      ]
     },
     "execution_count": 67,
     "metadata": {},
     "output_type": "execute_result"
    }
   ],
   "source": [
    "needed_samples.groupby('Type')['Weight (kg)'].sum()"
   ]
  },
  {
   "cell_type": "code",
   "execution_count": 68,
   "metadata": {},
   "outputs": [
    {
     "data": {
      "text/plain": [
       "Type\n",
       "Basalt      93.14077\n",
       "Breccia    168.88075\n",
       "Core        19.93587\n",
       "Crustal      4.74469\n",
       "Soil        87.58981\n",
       "Special      0.74410\n",
       "Name: Weight (kg), dtype: float64"
      ]
     },
     "execution_count": 68,
     "metadata": {},
     "output_type": "execute_result"
    }
   ],
   "source": [
    "rock_samples.groupby('Type')['Weight (kg)'].sum()"
   ]
  },
  {
   "attachments": {},
   "cell_type": "markdown",
   "metadata": {},
   "source": [
    "Hay un dato que destaca especialmente: nunca ha habido una gran cantidad de rocas corticales.\n",
    "\n",
    "Se pueden agregar rocas corticales al conjunto de muestras necesarias:"
   ]
  },
  {
   "cell_type": "code",
   "execution_count": 69,
   "metadata": {},
   "outputs": [
    {
     "name": "stdout",
     "output_type": "stream",
     "text": [
      "<class 'pandas.core.frame.DataFrame'>\n",
      "Int64Index: 68 entries, 11 to 2189\n",
      "Data columns (total 7 columns):\n",
      " #   Column          Non-Null Count  Dtype  \n",
      "---  ------          --------------  -----  \n",
      " 0   ID              68 non-null     int64  \n",
      " 1   Mission         68 non-null     object \n",
      " 2   Type            68 non-null     object \n",
      " 3   Subtype         68 non-null     object \n",
      " 4   Weight (kg)     68 non-null     float64\n",
      " 5   Pristine (%)    68 non-null     float64\n",
      " 6   Remaining (kg)  68 non-null     float64\n",
      "dtypes: float64(3), int64(1), object(3)\n",
      "memory usage: 4.2+ KB\n"
     ]
    }
   ],
   "source": [
    "needed_samples = pd.concat([needed_samples,rock_samples.loc[rock_samples['Type'] == 'Crustal']])\n",
    "needed_samples.info()"
   ]
  },
  {
   "attachments": {},
   "cell_type": "markdown",
   "metadata": {},
   "source": [
    "Resumen de las muestras necesarias.\n",
    "\n",
    "El paso final consiste en consolidar todo el conocimiento en una tabla que se pueda compartir con los astronautas. En primer lugar, se necesita una columna para cada tipo de roca del que se quieren obtener más muestras:"
   ]
  },
  {
   "cell_type": "code",
   "execution_count": 70,
   "metadata": {},
   "outputs": [
    {
     "data": {
      "text/html": [
       "<div>\n",
       "<style scoped>\n",
       "    .dataframe tbody tr th:only-of-type {\n",
       "        vertical-align: middle;\n",
       "    }\n",
       "\n",
       "    .dataframe tbody tr th {\n",
       "        vertical-align: top;\n",
       "    }\n",
       "\n",
       "    .dataframe thead th {\n",
       "        text-align: right;\n",
       "    }\n",
       "</style>\n",
       "<table border=\"1\" class=\"dataframe\">\n",
       "  <thead>\n",
       "    <tr style=\"text-align: right;\">\n",
       "      <th></th>\n",
       "      <th>Type</th>\n",
       "    </tr>\n",
       "  </thead>\n",
       "  <tbody>\n",
       "    <tr>\n",
       "      <th>0</th>\n",
       "      <td>Basalt</td>\n",
       "    </tr>\n",
       "    <tr>\n",
       "      <th>1</th>\n",
       "      <td>Breccia</td>\n",
       "    </tr>\n",
       "    <tr>\n",
       "      <th>2</th>\n",
       "      <td>Crustal</td>\n",
       "    </tr>\n",
       "  </tbody>\n",
       "</table>\n",
       "</div>"
      ],
      "text/plain": [
       "      Type\n",
       "0   Basalt\n",
       "1  Breccia\n",
       "2  Crustal"
      ]
     },
     "execution_count": 70,
     "metadata": {},
     "output_type": "execute_result"
    }
   ],
   "source": [
    "needed_samples_overview = pd.DataFrame()\n",
    "needed_samples_overview['Type'] = needed_samples.Type.unique()\n",
    "needed_samples_overview"
   ]
  },
  {
   "attachments": {},
   "cell_type": "markdown",
   "metadata": {},
   "source": [
    "A continuación, necesita el peso total de cada tipo de roca obtenida originalmente:"
   ]
  },
  {
   "cell_type": "code",
   "execution_count": 71,
   "metadata": {},
   "outputs": [
    {
     "data": {
      "text/html": [
       "<div>\n",
       "<style scoped>\n",
       "    .dataframe tbody tr th:only-of-type {\n",
       "        vertical-align: middle;\n",
       "    }\n",
       "\n",
       "    .dataframe tbody tr th {\n",
       "        vertical-align: top;\n",
       "    }\n",
       "\n",
       "    .dataframe thead th {\n",
       "        text-align: right;\n",
       "    }\n",
       "</style>\n",
       "<table border=\"1\" class=\"dataframe\">\n",
       "  <thead>\n",
       "    <tr style=\"text-align: right;\">\n",
       "      <th></th>\n",
       "      <th>Type</th>\n",
       "      <th>Total weight (kg)</th>\n",
       "    </tr>\n",
       "  </thead>\n",
       "  <tbody>\n",
       "    <tr>\n",
       "      <th>0</th>\n",
       "      <td>Basalt</td>\n",
       "      <td>17.42340</td>\n",
       "    </tr>\n",
       "    <tr>\n",
       "      <th>1</th>\n",
       "      <td>Breccia</td>\n",
       "      <td>10.11850</td>\n",
       "    </tr>\n",
       "    <tr>\n",
       "      <th>2</th>\n",
       "      <td>Crustal</td>\n",
       "      <td>4.74469</td>\n",
       "    </tr>\n",
       "  </tbody>\n",
       "</table>\n",
       "</div>"
      ],
      "text/plain": [
       "      Type  Total weight (kg)\n",
       "0   Basalt           17.42340\n",
       "1  Breccia           10.11850\n",
       "2  Crustal            4.74469"
      ]
     },
     "execution_count": 71,
     "metadata": {},
     "output_type": "execute_result"
    }
   ],
   "source": [
    "needed_sample_weights = needed_samples.groupby('Type')['Weight (kg)'].sum().reset_index()\n",
    "needed_samples_overview = pd.merge(needed_samples_overview, needed_sample_weights, on='Type')\n",
    "needed_samples_overview.rename(columns={'Weight (kg)':'Total weight (kg)'}, inplace=True)\n",
    "needed_samples_overview"
   ]
  },
  {
   "attachments": {},
   "cell_type": "markdown",
   "metadata": {},
   "source": [
    "Cuando los astronautas estén en la Luna, una forma de identificar las rocas es por su tamaño. Si se les puede indicar el tamaño estimado de cada tipo de roca, se podría facilitar el proceso de obtención."
   ]
  },
  {
   "cell_type": "code",
   "execution_count": 72,
   "metadata": {},
   "outputs": [
    {
     "data": {
      "text/html": [
       "<div>\n",
       "<style scoped>\n",
       "    .dataframe tbody tr th:only-of-type {\n",
       "        vertical-align: middle;\n",
       "    }\n",
       "\n",
       "    .dataframe tbody tr th {\n",
       "        vertical-align: top;\n",
       "    }\n",
       "\n",
       "    .dataframe thead th {\n",
       "        text-align: right;\n",
       "    }\n",
       "</style>\n",
       "<table border=\"1\" class=\"dataframe\">\n",
       "  <thead>\n",
       "    <tr style=\"text-align: right;\">\n",
       "      <th></th>\n",
       "      <th>Type</th>\n",
       "      <th>Total weight (kg)</th>\n",
       "      <th>Average weight (kg)</th>\n",
       "    </tr>\n",
       "  </thead>\n",
       "  <tbody>\n",
       "    <tr>\n",
       "      <th>0</th>\n",
       "      <td>Basalt</td>\n",
       "      <td>17.42340</td>\n",
       "      <td>1.244529</td>\n",
       "    </tr>\n",
       "    <tr>\n",
       "      <th>1</th>\n",
       "      <td>Breccia</td>\n",
       "      <td>10.11850</td>\n",
       "      <td>1.264813</td>\n",
       "    </tr>\n",
       "    <tr>\n",
       "      <th>2</th>\n",
       "      <td>Crustal</td>\n",
       "      <td>4.74469</td>\n",
       "      <td>0.103145</td>\n",
       "    </tr>\n",
       "  </tbody>\n",
       "</table>\n",
       "</div>"
      ],
      "text/plain": [
       "      Type  Total weight (kg)  Average weight (kg)\n",
       "0   Basalt           17.42340             1.244529\n",
       "1  Breccia           10.11850             1.264813\n",
       "2  Crustal            4.74469             0.103145"
      ]
     },
     "execution_count": 72,
     "metadata": {},
     "output_type": "execute_result"
    }
   ],
   "source": [
    "needed_sample_ave_weights = needed_samples.groupby('Type')['Weight (kg)'].mean().reset_index()\n",
    "needed_samples_overview = pd.merge(needed_samples_overview, needed_sample_ave_weights, on='Type')\n",
    "needed_samples_overview.rename(columns={'Weight (kg)':'Average weight (kg)'}, inplace=True)\n",
    "needed_samples_overview"
   ]
  },
  {
   "attachments": {},
   "cell_type": "markdown",
   "metadata": {},
   "source": [
    "Las rocas corticales son pequeñas. Probablemente son más difíciles de detectar, motivo de que sean tan escasas.\n",
    "\n",
    "Seguramente quiera indicarles a los astronautas qué cantidad de cada tipo quiere que consigan. Por tanto, para los tres tipos que busca, debería tomar el número total de cada tipo y obtener el porcentaje restante de cada tipo de roca."
   ]
  },
  {
   "cell_type": "code",
   "execution_count": 73,
   "metadata": {},
   "outputs": [
    {
     "data": {
      "text/html": [
       "<div>\n",
       "<style scoped>\n",
       "    .dataframe tbody tr th:only-of-type {\n",
       "        vertical-align: middle;\n",
       "    }\n",
       "\n",
       "    .dataframe tbody tr th {\n",
       "        vertical-align: top;\n",
       "    }\n",
       "\n",
       "    .dataframe thead th {\n",
       "        text-align: right;\n",
       "    }\n",
       "</style>\n",
       "<table border=\"1\" class=\"dataframe\">\n",
       "  <thead>\n",
       "    <tr style=\"text-align: right;\">\n",
       "      <th></th>\n",
       "      <th>Type</th>\n",
       "      <th>Total weight (kg)</th>\n",
       "      <th>Average weight (kg)</th>\n",
       "      <th>Number of samples</th>\n",
       "      <th>Percentage of rocks</th>\n",
       "    </tr>\n",
       "  </thead>\n",
       "  <tbody>\n",
       "    <tr>\n",
       "      <th>0</th>\n",
       "      <td>Basalt</td>\n",
       "      <td>17.42340</td>\n",
       "      <td>1.244529</td>\n",
       "      <td>351</td>\n",
       "      <td>0.258850</td>\n",
       "    </tr>\n",
       "    <tr>\n",
       "      <th>1</th>\n",
       "      <td>Breccia</td>\n",
       "      <td>10.11850</td>\n",
       "      <td>1.264813</td>\n",
       "      <td>959</td>\n",
       "      <td>0.707227</td>\n",
       "    </tr>\n",
       "    <tr>\n",
       "      <th>2</th>\n",
       "      <td>Crustal</td>\n",
       "      <td>4.74469</td>\n",
       "      <td>0.103145</td>\n",
       "      <td>46</td>\n",
       "      <td>0.033923</td>\n",
       "    </tr>\n",
       "  </tbody>\n",
       "</table>\n",
       "</div>"
      ],
      "text/plain": [
       "      Type  Total weight (kg)  Average weight (kg)  Number of samples  \\\n",
       "0   Basalt           17.42340             1.244529                351   \n",
       "1  Breccia           10.11850             1.264813                959   \n",
       "2  Crustal            4.74469             0.103145                 46   \n",
       "\n",
       "   Percentage of rocks  \n",
       "0             0.258850  \n",
       "1             0.707227  \n",
       "2             0.033923  "
      ]
     },
     "execution_count": 73,
     "metadata": {},
     "output_type": "execute_result"
    }
   ],
   "source": [
    "total_rock_count = rock_samples.groupby('Type')['ID'].count().reset_index()\n",
    "needed_samples_overview = pd.merge(needed_samples_overview, total_rock_count, on='Type')\n",
    "needed_samples_overview.rename(columns={'ID':'Number of samples'}, inplace=True)\n",
    "total_rocks = needed_samples_overview['Number of samples'].sum()\n",
    "needed_samples_overview['Percentage of rocks'] = needed_samples_overview['Number of samples'] / total_rocks\n",
    "needed_samples_overview"
   ]
  },
  {
   "attachments": {},
   "cell_type": "markdown",
   "metadata": {},
   "source": [
    "Por último, para asociarlo todo a una recomendación para el programa Artemis, se puede determinar el peso medio de las muestras que se han estimado en la unidad anterior."
   ]
  },
  {
   "cell_type": "code",
   "execution_count": 74,
   "metadata": {},
   "outputs": [
    {
     "data": {
      "text/plain": [
       "63.61713411579792"
      ]
     },
     "execution_count": 74,
     "metadata": {},
     "output_type": "execute_result"
    }
   ],
   "source": [
    "artemis_ave_weight = artemis_mission['Estimated sample weight (kg)'].mean()\n",
    "artemis_ave_weight"
   ]
  },
  {
   "attachments": {},
   "cell_type": "markdown",
   "metadata": {},
   "source": [
    "Este número se puede usar para determinar qué cantidad de cada roca deben intentar conseguir los astronautas:"
   ]
  },
  {
   "cell_type": "code",
   "execution_count": 75,
   "metadata": {},
   "outputs": [
    {
     "data": {
      "text/html": [
       "<div>\n",
       "<style scoped>\n",
       "    .dataframe tbody tr th:only-of-type {\n",
       "        vertical-align: middle;\n",
       "    }\n",
       "\n",
       "    .dataframe tbody tr th {\n",
       "        vertical-align: top;\n",
       "    }\n",
       "\n",
       "    .dataframe thead th {\n",
       "        text-align: right;\n",
       "    }\n",
       "</style>\n",
       "<table border=\"1\" class=\"dataframe\">\n",
       "  <thead>\n",
       "    <tr style=\"text-align: right;\">\n",
       "      <th></th>\n",
       "      <th>Type</th>\n",
       "      <th>Total weight (kg)</th>\n",
       "      <th>Average weight (kg)</th>\n",
       "      <th>Number of samples</th>\n",
       "      <th>Percentage of rocks</th>\n",
       "      <th>Weight to collect</th>\n",
       "      <th>Rocks to collect</th>\n",
       "    </tr>\n",
       "  </thead>\n",
       "  <tbody>\n",
       "    <tr>\n",
       "      <th>0</th>\n",
       "      <td>Basalt</td>\n",
       "      <td>17.42340</td>\n",
       "      <td>1.244529</td>\n",
       "      <td>351</td>\n",
       "      <td>0.258850</td>\n",
       "      <td>16.467267</td>\n",
       "      <td>13.231731</td>\n",
       "    </tr>\n",
       "    <tr>\n",
       "      <th>1</th>\n",
       "      <td>Breccia</td>\n",
       "      <td>10.11850</td>\n",
       "      <td>1.264813</td>\n",
       "      <td>959</td>\n",
       "      <td>0.707227</td>\n",
       "      <td>44.991764</td>\n",
       "      <td>35.571884</td>\n",
       "    </tr>\n",
       "    <tr>\n",
       "      <th>2</th>\n",
       "      <td>Crustal</td>\n",
       "      <td>4.74469</td>\n",
       "      <td>0.103145</td>\n",
       "      <td>46</td>\n",
       "      <td>0.033923</td>\n",
       "      <td>2.158103</td>\n",
       "      <td>20.922917</td>\n",
       "    </tr>\n",
       "  </tbody>\n",
       "</table>\n",
       "</div>"
      ],
      "text/plain": [
       "      Type  Total weight (kg)  Average weight (kg)  Number of samples  \\\n",
       "0   Basalt           17.42340             1.244529                351   \n",
       "1  Breccia           10.11850             1.264813                959   \n",
       "2  Crustal            4.74469             0.103145                 46   \n",
       "\n",
       "   Percentage of rocks  Weight to collect  Rocks to collect  \n",
       "0             0.258850          16.467267         13.231731  \n",
       "1             0.707227          44.991764         35.571884  \n",
       "2             0.033923           2.158103         20.922917  "
      ]
     },
     "execution_count": 75,
     "metadata": {},
     "output_type": "execute_result"
    }
   ],
   "source": [
    "needed_samples_overview['Weight to collect'] = needed_samples_overview['Percentage of rocks'] * artemis_ave_weight\n",
    "needed_samples_overview['Rocks to collect'] = needed_samples_overview['Weight to collect'] / needed_samples_overview['Average weight (kg)']\n",
    "needed_samples_overview"
   ]
  }
 ],
 "metadata": {
  "kernelspec": {
   "display_name": "curso",
   "language": "python",
   "name": "python3"
  },
  "language_info": {
   "codemirror_mode": {
    "name": "ipython",
    "version": 3
   },
   "file_extension": ".py",
   "mimetype": "text/x-python",
   "name": "python",
   "nbconvert_exporter": "python",
   "pygments_lexer": "ipython3",
   "version": "3.9.16"
  },
  "orig_nbformat": 4
 },
 "nbformat": 4,
 "nbformat_minor": 2
}
